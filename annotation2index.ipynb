{
 "cells": [
  {
   "cell_type": "code",
   "execution_count": 13,
   "metadata": {
    "collapsed": true
   },
   "outputs": [],
   "source": [
    "import warnings\n",
    "warnings.filterwarnings('ignore')\n",
    "import sys, os\n",
    "sys.path.append(os.pardir)\n",
    "import glob\n",
    "import numpy as np\n",
    "from multiprocessing import Pool\n",
    "import multiprocessing as multi\n",
    "sys.path.append(os.pardir)\n",
    "import pandas as pd\n",
    "import h5py\n",
    "import re"
   ]
  },
  {
   "cell_type": "code",
   "execution_count": 2,
   "metadata": {},
   "outputs": [
    {
     "data": {
      "text/plain": [
       "['#refs#',\n",
       " 'modelName',\n",
       " 'stimW2VTrn',\n",
       " 'stimW2VVal',\n",
       " 'u',\n",
       " 'wordArray',\n",
       " 'wordFreqArray']"
      ]
     },
     "execution_count": 2,
     "metadata": {},
     "output_type": "execute_result"
    }
   ],
   "source": [
    "file = h5py.File( '/home/dl-box/デスクトップ/PythonFile/nishimoto/SampleFullsn/fullsnspmStimW2V.mat', 'r' )\n",
    "list( file.keys() )"
   ]
  },
  {
   "cell_type": "code",
   "execution_count": 3,
   "metadata": {
    "collapsed": true,
    "scrolled": true
   },
   "outputs": [],
   "source": [
    "f = open('/home/dl-box/デスクトップ/PythonFile/nishimoto/SampleFullsn/WordList.txt', 'r')\n",
    "w = f.read()\n",
    "f.close()\n",
    "wList = re.sub( '\\n', ' ',w ).split()"
   ]
  },
  {
   "cell_type": "code",
   "execution_count": 4,
   "metadata": {},
   "outputs": [
    {
     "data": {
      "text/plain": [
       "(109732, 1000)"
      ]
     },
     "execution_count": 4,
     "metadata": {},
     "output_type": "execute_result"
    }
   ],
   "source": [
    "np.array(file['u']).shape"
   ]
  },
  {
   "cell_type": "code",
   "execution_count": 6,
   "metadata": {
    "collapsed": true
   },
   "outputs": [],
   "source": [
    "load_path = sorted( glob.glob( '/home/dl-box/デスクトップ/PythonFile/hirose/Text/text_list/*.txt' ) )"
   ]
  },
  {
   "cell_type": "code",
   "execution_count": null,
   "metadata": {
    "collapsed": true
   },
   "outputs": [],
   "source": []
  },
  {
   "cell_type": "code",
   "execution_count": 11,
   "metadata": {
    "collapsed": true
   },
   "outputs": [],
   "source": [
    "f = open(load_path[0],\"r\")\n",
    "w = f.read()"
   ]
  },
  {
   "cell_type": "code",
   "execution_count": 4,
   "metadata": {
    "collapsed": true
   },
   "outputs": [],
   "source": [
    "# 頻出単語はカット\n",
    "wList = wList[100:]"
   ]
  },
  {
   "cell_type": "code",
   "execution_count": 5,
   "metadata": {},
   "outputs": [
    {
     "name": "stderr",
     "output_type": "stream",
     "text": [
      "Using TensorFlow backend.\n"
     ]
    }
   ],
   "source": [
    "\n",
    "'''text2index'''\n",
    "\n",
    "from func import TextDeal\n",
    "from func import wrapper_func_four\n",
    "\n",
    "vocab = wList\n",
    "\n",
    "td = TextDeal()\n",
    "load_path = sorted( glob.glob( '/home/dl-box/デスクトップ/PythonFile/hirose/Text/text_list/*.txt' ) )\n",
    "name = [ os.path.splitext( os.path.basename( r ) )[0] for r in load_path ]\n",
    "save_path = '/home/dl-box/デスクトップ/PythonFile/hirose/LSTM/W2I/'\n",
    "\n",
    "if __name__ == '__main__':\n",
    "    #data=(関数, 引数)\n",
    "    data = [ ( td.text2index_nishimoto, vocab, load_path[i], save_path, name[i] ) for i in range( len(load_path) ) ]\n",
    "    with Pool( multi.cpu_count()-1 ) as p:\n",
    "        p.map( wrapper_func_four, data )\n",
    "    "
   ]
  },
  {
   "cell_type": "code",
   "execution_count": 6,
   "metadata": {
    "collapsed": true
   },
   "outputs": [],
   "source": [
    "load_path = sorted( glob.glob( '/home/dl-box/デスクトップ/PythonFile/hirose/LSTM/W2I/*.npy' ) )\n",
    "a = [ np.load(path) for path in load_path ]"
   ]
  },
  {
   "cell_type": "code",
   "execution_count": 7,
   "metadata": {
    "collapsed": true
   },
   "outputs": [],
   "source": [
    "q = []\n",
    "w = []\n",
    "for b in a:\n",
    "    d=0\n",
    "    w.append(len(b))\n",
    "    for c in b:\n",
    "        if d<len(c):\n",
    "            d = len(c)\n",
    "    q.append(d)"
   ]
  },
  {
   "cell_type": "code",
   "execution_count": 8,
   "metadata": {},
   "outputs": [
    {
     "name": "stdout",
     "output_type": "stream",
     "text": [
      "各文の長さの最大値 > 25 (7440中)  23\n",
      "　各文の数の最大値 > 20 (7440中)  208\n"
     ]
    }
   ],
   "source": [
    "print( '各文の長さの最大値 > 25 (7440中) ', len(np.where(np.array(q)>25)[0]) )\n",
    "print( '　各文の数の最大値 > 20 (7440中) ',len(np.where(np.array(w)>20)[0]) )"
   ]
  },
  {
   "cell_type": "code",
   "execution_count": null,
   "metadata": {
    "collapsed": true
   },
   "outputs": [],
   "source": []
  },
  {
   "cell_type": "code",
   "execution_count": 9,
   "metadata": {
    "collapsed": true
   },
   "outputs": [],
   "source": [
    "\n",
    "''' Padding '''\n",
    "\n",
    "from func import TextDeal\n",
    "from func import wrapper_func_three\n",
    "\n",
    "td = TextDeal()\n",
    "length = len( glob.glob( '/home/dl-box/デスクトップ/PythonFile/hirose/LSTM/W2I/*.npy' ) )\n",
    "load_path = sorted( glob.glob( '/home/dl-box/デスクトップ/PythonFile/hirose/LSTM/W2I/*.npy' ) )\n",
    "name = [ os.path.basename( r ) for r in load_path ]\n",
    "save_path = '/home/dl-box/デスクトップ/PythonFile/hirose/LSTM/Padding/'\n",
    "\n",
    "if __name__ == '__main__':\n",
    "    #data=(関数, 引数)\n",
    "    data = [ ( td.padding_plus1, load_path[i], save_path, name[i] ) for i in range( length ) ]\n",
    "    with Pool( multi.cpu_count()-1 ) as p:\n",
    "        p.map( wrapper_func_three, data )\n"
   ]
  },
  {
   "cell_type": "code",
   "execution_count": 11,
   "metadata": {
    "collapsed": true
   },
   "outputs": [],
   "source": [
    "#ちゃんとPaddingできたか確認\n",
    "path = [ ('./Padding/'+os.path.basename( r )) for r in sorted( glob.glob( './Padding/*.npy' ) ) ]\n",
    "for i in range(7740):\n",
    "    if np.load( path[i] ).shape==(20,25):\n",
    "        continue\n",
    "    else:\n",
    "        print('Error!!')\n",
    "        break"
   ]
  },
  {
   "cell_type": "code",
   "execution_count": null,
   "metadata": {
    "collapsed": true
   },
   "outputs": [],
   "source": []
  },
  {
   "cell_type": "code",
   "execution_count": 12,
   "metadata": {
    "collapsed": true
   },
   "outputs": [],
   "source": [
    "\n",
    "''' Embedding Matrix '''\n",
    "\n",
    "matW = np.array( file['u'] )[100:] #頻出100単語をカット\n",
    "zero = np.array( [ np.zeros(1000,dtype=int) ] )\n",
    "matW_New = np.append(zero, matW, axis=0)\n",
    "np.save( './data/weights.npy', matW_New )"
   ]
  },
  {
   "cell_type": "code",
   "execution_count": 13,
   "metadata": {},
   "outputs": [
    {
     "name": "stdout",
     "output_type": "stream",
     "text": [
      "元々の形=(109632, 1000) 0加えたあと=(109633, 1000)\n"
     ]
    }
   ],
   "source": [
    "print('元々の形=' +str(matW.shape)+' 0加えたあと='+str(matW_New.shape) )"
   ]
  },
  {
   "cell_type": "code",
   "execution_count": null,
   "metadata": {
    "collapsed": true
   },
   "outputs": [],
   "source": []
  },
  {
   "cell_type": "code",
   "execution_count": null,
   "metadata": {
    "collapsed": true
   },
   "outputs": [],
   "source": [
    "\n",
    "''' Make Training Data & Test Data '''\n"
   ]
  },
  {
   "cell_type": "code",
   "execution_count": 21,
   "metadata": {
    "collapsed": true
   },
   "outputs": [],
   "source": [
    "#load する data\n",
    "path = [ ('/home/dl-box/デスクトップ/PythonFile/hirose/Text/text_index/'+os.path.basename( r ))\n",
    "          for r in sorted( glob.glob( '/home/dl-box/デスクトップ/PythonFile/hirose/Text/text_index/*.npy' ) ) ]"
   ]
  },
  {
   "cell_type": "code",
   "execution_count": 22,
   "metadata": {
    "scrolled": true
   },
   "outputs": [
    {
     "name": "stdout",
     "output_type": "stream",
     "text": [
      "0番目まで終了\n",
      "1000番目まで終了\n",
      "2000番目まで終了\n",
      "3000番目まで終了\n",
      "4000番目まで終了\n",
      "5000番目まで終了\n",
      "6000番目まで終了\n",
      "7000番目まで終了\n",
      "training data finished\n",
      "test data finished\n"
     ]
    }
   ],
   "source": [
    "tr = []\n",
    "te = []\n",
    "for i in range( len(path) ):\n",
    "    if i < 7200:\n",
    "        tr.append( np.load(path[i]) )\n",
    "        if i ==7199:\n",
    "            print('training data finished')\n",
    "    else:\n",
    "        te.append( np.load(path[i]) )\n",
    "        if i == 7739:\n",
    "            print('test data finished')\n",
    "        \n",
    "    if i%1000 == 0:\n",
    "            print( str(i) + '番目まで終了' )"
   ]
  },
  {
   "cell_type": "code",
   "execution_count": 23,
   "metadata": {},
   "outputs": [
    {
     "name": "stdout",
     "output_type": "stream",
     "text": [
      "training size = 7200 test size = 540\n"
     ]
    }
   ],
   "source": [
    "print('training size = ' + str(len(tr)) + ' test size = ' + str(len(te)) )"
   ]
  },
  {
   "cell_type": "code",
   "execution_count": 24,
   "metadata": {
    "collapsed": true
   },
   "outputs": [],
   "source": [
    "np.save( './data/training_data.npy', tr )\n",
    "np.save( './data/test_data.npy', te )"
   ]
  },
  {
   "cell_type": "code",
   "execution_count": null,
   "metadata": {},
   "outputs": [],
   "source": []
  },
  {
   "cell_type": "code",
   "execution_count": null,
   "metadata": {
    "collapsed": true
   },
   "outputs": [],
   "source": [
    "\n",
    "''' timescale matrix '''\n"
   ]
  },
  {
   "cell_type": "code",
   "execution_count": 27,
   "metadata": {},
   "outputs": [
    {
     "data": {
      "text/plain": [
       "(7200,)"
      ]
     },
     "execution_count": 27,
     "metadata": {},
     "output_type": "execute_result"
    }
   ],
   "source": [
    "tr = np.load( './data/training_data.npy' )\n",
    "te = np.load( './data/test_data.npy' )\n",
    "tr.shape"
   ]
  },
  {
   "cell_type": "code",
   "execution_count": null,
   "metadata": {
    "collapsed": true
   },
   "outputs": [],
   "source": []
  },
  {
   "cell_type": "code",
   "execution_count": 11,
   "metadata": {},
   "outputs": [
    {
     "name": "stdout",
     "output_type": "stream",
     "text": [
      "0\n",
      "1000\n",
      "2000\n",
      "3000\n"
     ]
    }
   ],
   "source": [
    "'''zero = np.zeros_like( tr[0] )\n",
    "#脳情報データラベルは3600個(training)\n",
    "tr_data = []\n",
    "for i in range(3600):\n",
    "    tmp = []\n",
    "    if i == 0:\n",
    "        tmp.append( tr[0] )\n",
    "        tmp.append( zero )\n",
    "        tmp.append( zero )\n",
    "    elif i == 1:\n",
    "        tmp.append( tr[1] )\n",
    "        tmp.append( tr[0] )\n",
    "        tmp.append( zero )\n",
    "    else:\n",
    "        tmp.append( tr[2*i] )\n",
    "        tmp.append( tr[2*i-1] )\n",
    "        tmp.append( tr[2*i-2] )\n",
    "    tr_data.append( tmp )\n",
    "    if i % 1000 == 0:\n",
    "        print(i)\n",
    "    \n",
    "te_data = []\n",
    "for i in range(270):\n",
    "    tmp = []\n",
    "    if i == 0:\n",
    "        tmp.append( tr[len(tr)-1] )\n",
    "        tmp.append( tr[-1] )\n",
    "        tmp.append( tr[-2] )\n",
    "    elif i == 1:\n",
    "        tmp.append( te[1] )\n",
    "        tmp.append( te[0] )\n",
    "        tmp.append( tr[len(tr)-1] )\n",
    "    else:\n",
    "        tmp.append( tr[2*i] )\n",
    "        tmp.append( tr[2*i-1] )\n",
    "        tmp.append( tr[2*i-2] )\n",
    "    te_data.append( tmp )\n",
    "    '''"
   ]
  },
  {
   "cell_type": "code",
   "execution_count": 28,
   "metadata": {},
   "outputs": [
    {
     "name": "stdout",
     "output_type": "stream",
     "text": [
      "1000\n",
      "2000\n",
      "3000\n"
     ]
    }
   ],
   "source": [
    "#脳情報データラベルは3600個(training)\n",
    "tr_data = []\n",
    "for i in range( 3, 3600+1 ): #最初の5秒間は捨てる(3599個)\n",
    "    tmp = []\n",
    "    \n",
    "    tmp.append( tr[(2*i-1)-3] )\n",
    "    tmp.append( tr[(2*i-1)-4] )\n",
    "    tmp.append( tr[(2*i-1)-5] )\n",
    "    \n",
    "    tr_data.append( tmp )\n",
    "    if i % 1000 == 0:\n",
    "        print(i)\n",
    "    \n",
    "te_data = []\n",
    "for i in range( 3, 270+1 ):\n",
    "    tmp = []\n",
    "    \n",
    "    tmp.append( te[(2*i-1)-3] )\n",
    "    tmp.append( te[(2*i-1)-4] )\n",
    "    tmp.append( te[(2*i-1)-5] )\n",
    "    \n",
    "    te_data.append( tmp )\n",
    "    "
   ]
  },
  {
   "cell_type": "code",
   "execution_count": 12,
   "metadata": {
    "collapsed": true
   },
   "outputs": [],
   "source": [
    "'''\n",
    "np.save( './lstm/tr_data(234).npy', tr_data )\n",
    "np.save( './lstm/te_data(234).npy', te_data )\n",
    "np.load('./lstm/tr_data(234).npy').shape\n",
    "'''"
   ]
  },
  {
   "cell_type": "code",
   "execution_count": 29,
   "metadata": {},
   "outputs": [
    {
     "data": {
      "text/plain": [
       "(268, 3)"
      ]
     },
     "execution_count": 29,
     "metadata": {},
     "output_type": "execute_result"
    }
   ],
   "source": [
    "np.save( './data/tr_data(345).npy', tr_data )\n",
    "np.save( './data/te_data(345).npy', te_data )\n",
    "np.load('./data/te_data(345).npy').shape"
   ]
  },
  {
   "cell_type": "code",
   "execution_count": null,
   "metadata": {},
   "outputs": [],
   "source": []
  },
  {
   "cell_type": "code",
   "execution_count": null,
   "metadata": {
    "collapsed": true
   },
   "outputs": [],
   "source": [
    "\n",
    "''' Make Label '''\n"
   ]
  },
  {
   "cell_type": "code",
   "execution_count": 29,
   "metadata": {},
   "outputs": [
    {
     "name": "stdout",
     "output_type": "stream",
     "text": [
      "['respTrn', 'respVal']\n"
     ]
    }
   ],
   "source": [
    "#脳情報データの読み込み\n",
    "#respTrn は training data ,respVal は test data\n",
    "import h5py\n",
    "f = h5py.File( '/home/dl-box/デスクトップ/PythonFile/nishimoto/SampleFullsn/fullsnspmResp.mat' , 'r' )\n",
    "print( list( f.keys() ) )"
   ]
  },
  {
   "cell_type": "code",
   "execution_count": 30,
   "metadata": {},
   "outputs": [
    {
     "name": "stdout",
     "output_type": "stream",
     "text": [
      "・脳情報データのサイズ(train):(3600, 32, 100, 100) ・脳情報データのサイズ(test):(270, 32, 100, 100)\n"
     ]
    }
   ],
   "source": [
    "print( '・脳情報データのサイズ(train):' + str(f['respTrn'].shape) + ' ・脳情報データのサイズ(test):' + str(f['respVal'].shape) )"
   ]
  },
  {
   "cell_type": "code",
   "execution_count": 39,
   "metadata": {
    "collapsed": true
   },
   "outputs": [],
   "source": [
    "#( f['respTrn'][0].flatten() ).reshape(32,100,100) == f['respTrn'][0]\n",
    "#>>>True"
   ]
  },
  {
   "cell_type": "code",
   "execution_count": 23,
   "metadata": {},
   "outputs": [
    {
     "name": "stdout",
     "output_type": "stream",
     "text": [
      "1000\n",
      "2000\n",
      "3000\n"
     ]
    },
    {
     "data": {
      "text/plain": [
       "\"\\ntr_label = []\\nfor i in range( len(f['respTrn']) ):\\n    tr_label.append( np.array( f['respTrn'][i].flatten(), dtype=np.float16 ) )\\n    if i % 1000 == 0:\\n        print(i)\\n        \\nte_label = []\\nfor i in range( len(f['respVal']) ):\\n    te_label.append( np.array( f['respVal'][i].flatten(), dtype=np.float16 ) )\\n\\n\""
      ]
     },
     "execution_count": 23,
     "metadata": {},
     "output_type": "execute_result"
    }
   ],
   "source": [
    "tr_label = []\n",
    "for i in range( 2, len(f['respTrn']) ):\n",
    "    tr_label.append( f['respTrn'][i].flatten() )\n",
    "    if i % 1000 == 0:\n",
    "        print(i)\n",
    "        \n",
    "te_label = []\n",
    "for i in range( 2, len(f['respVal']) ):\n",
    "    te_label.append( f['respVal'][i].flatten() )\n",
    "    \n",
    "'''\n",
    "tr_label = []\n",
    "for i in range( len(f['respTrn']) ):\n",
    "    tr_label.append( np.array( f['respTrn'][i].flatten(), dtype=np.float16 ) )\n",
    "    if i % 1000 == 0:\n",
    "        print(i)\n",
    "        \n",
    "te_label = []\n",
    "for i in range( len(f['respVal']) ):\n",
    "    te_label.append( np.array( f['respVal'][i].flatten(), dtype=np.float16 ) )\n",
    "\n",
    "'''"
   ]
  },
  {
   "cell_type": "code",
   "execution_count": 24,
   "metadata": {},
   "outputs": [
    {
     "data": {
      "text/plain": [
       "(268, 320000)"
      ]
     },
     "execution_count": 24,
     "metadata": {},
     "output_type": "execute_result"
    }
   ],
   "source": [
    "np.save( '../Training_Data/training_label(345).npy', tr_label )\n",
    "np.save( '../Training_Data/test_label(345).npy', te_label )\n",
    "np.load( '../Training_Data/test_label(345).npy').shape"
   ]
  },
  {
   "cell_type": "code",
   "execution_count": 25,
   "metadata": {
    "collapsed": true
   },
   "outputs": [],
   "source": [
    "f.close()"
   ]
  },
  {
   "cell_type": "code",
   "execution_count": null,
   "metadata": {
    "collapsed": true
   },
   "outputs": [],
   "source": []
  },
  {
   "cell_type": "code",
   "execution_count": 3,
   "metadata": {
    "collapsed": true
   },
   "outputs": [],
   "source": [
    "import h5py\n",
    "t_train = h5py.File( '/home/dl-box/デスクトップ/PythonFile/hirose/Training_Data/t_train.h5py' , 'w' )\n",
    "t_test = h5py.File( '/home/dl-box/デスクトップ/PythonFile/hirose/Training_Data/t_test.h5py' , 'w' )"
   ]
  },
  {
   "cell_type": "code",
   "execution_count": null,
   "metadata": {
    "collapsed": true
   },
   "outputs": [],
   "source": [
    "for i in range(32):\n",
    "    tr = []\n",
    "    \n",
    "    for j in range( 2, len(f['respTrn']) ):\n",
    "        tr.append( np.r_[ f['respTrn'][j][i].flatten(), f['respTrn'][j-1][i].flatten(), f['respTrn'][j-2][i].flatten() ] )\n",
    "        \n",
    "    t_train[ 'Trn'+str(i+1) ] = np.array( tr )\n",
    "    print( str(i) + 'スライスまで終了' )\n",
    "\n",
    "    \n",
    "    \n",
    "    \n",
    "for i in range(32):\n",
    "    te = []\n",
    "    \n",
    "    for j in range( 2, len(f['respVal']) ):\n",
    "        te.append( np.r_[ f['respVal'][j][i].flatten(), f['respVal'][j-1][i].flatten(), f['respVal'][j-2][i].flatten() ] )\n",
    "        \n",
    "    t_test[ 'Val'+str(i+1) ] = np.array( te )\n",
    "    print( str(i) + 'スライスまで終了' )\n"
   ]
  },
  {
   "cell_type": "code",
   "execution_count": 12,
   "metadata": {
    "collapsed": true
   },
   "outputs": [],
   "source": [
    "t_train.close()\n",
    "t_test.close()"
   ]
  },
  {
   "cell_type": "code",
   "execution_count": null,
   "metadata": {
    "collapsed": true
   },
   "outputs": [],
   "source": []
  },
  {
   "cell_type": "code",
   "execution_count": null,
   "metadata": {
    "collapsed": true
   },
   "outputs": [],
   "source": []
  },
  {
   "cell_type": "code",
   "execution_count": null,
   "metadata": {
    "collapsed": true
   },
   "outputs": [],
   "source": []
  },
  {
   "cell_type": "code",
   "execution_count": 10,
   "metadata": {},
   "outputs": [
    {
     "data": {
      "text/plain": [
       "array([array([1, 2, 3]), array([1, 2, 3]), array([1, 2, 3, 4])],\n",
       "      dtype=object)"
      ]
     },
     "execution_count": 10,
     "metadata": {},
     "output_type": "execute_result"
    }
   ],
   "source": [
    "import numpy as np\n",
    "np.r_[ np.array([np.array([1,2,3]), np.array([1,2,3]), np.array([1,2,3,4])]) ]"
   ]
  },
  {
   "cell_type": "code",
   "execution_count": 20,
   "metadata": {},
   "outputs": [
    {
     "data": {
      "text/plain": [
       "array([1, 2, 3, 1, 2, 3, 1, 2, 3])"
      ]
     },
     "execution_count": 20,
     "metadata": {},
     "output_type": "execute_result"
    }
   ],
   "source": [
    "np.r_[ np.array([1,2,3]), np.array([1,2,3]), np.array([1,2,3]) ]"
   ]
  },
  {
   "cell_type": "code",
   "execution_count": 30,
   "metadata": {},
   "outputs": [
    {
     "name": "stdout",
     "output_type": "stream",
     "text": [
      "1000\n",
      "2000\n",
      "3000\n"
     ]
    }
   ],
   "source": [
    "tr_label = []\n",
    "for i in range( 2, len(f['respTrn']) ):\n",
    "    tr_label.append( np.r_[ f['respTrn'][i].flatten(), f['respTrn'][i-1].flatten(), f['respTrn'][i-2].flatten() ] )\n",
    "    if i % 1000 == 0:\n",
    "        print(i)\n",
    "        \n",
    "te_label = []\n",
    "for i in range( 2, len(f['respVal']) ):\n",
    "    te_label.append( np.r_[ f['respVal'][i].flatten(), f['respVal'][i-1].flatten(), f['respVal'][i-2].flatten() ] )"
   ]
  },
  {
   "cell_type": "code",
   "execution_count": 35,
   "metadata": {
    "collapsed": true
   },
   "outputs": [],
   "source": [
    "np.save( '../Training_Data/t_train.npy', tr_label[:-1] )\n",
    "np.save( '../Training_Data/t_test.npy', te_label[:-1] )"
   ]
  },
  {
   "cell_type": "code",
   "execution_count": null,
   "metadata": {
    "collapsed": true
   },
   "outputs": [],
   "source": []
  },
  {
   "cell_type": "code",
   "execution_count": null,
   "metadata": {
    "collapsed": true
   },
   "outputs": [],
   "source": []
  },
  {
   "cell_type": "code",
   "execution_count": null,
   "metadata": {
    "collapsed": true
   },
   "outputs": [],
   "source": [
    "\n",
    "'''文の構造'''\n"
   ]
  },
  {
   "cell_type": "code",
   "execution_count": 3,
   "metadata": {
    "collapsed": true
   },
   "outputs": [],
   "source": [
    "path = [ ('./text_index/'+os.path.basename( r )) for r in sorted( glob.glob( './text_index/*.npy' ) ) ]\n",
    "s = []\n",
    "m = []\n",
    "for i in range(len(path)):\n",
    "    a = np.load(path[i])\n",
    "    m.append(len(a))\n",
    "    l = 0\n",
    "    for j in range(len(a)):\n",
    "        if len(a[j]) >= l:\n",
    "            l = len(a[j])\n",
    "    s.append(l)"
   ]
  },
  {
   "cell_type": "code",
   "execution_count": 4,
   "metadata": {
    "collapsed": true
   },
   "outputs": [],
   "source": [
    "s = np.array(s)\n",
    "m = np.array(m)"
   ]
  },
  {
   "cell_type": "code",
   "execution_count": 8,
   "metadata": {},
   "outputs": [
    {
     "name": "stdout",
     "output_type": "stream",
     "text": [
      "平均：文の数 14.993669250645995 文の長さ 24.04108527131783\n"
     ]
    }
   ],
   "source": [
    "print( '平均：文の数 '+str(m.mean())+' 文の長さ '+str(s.mean()) )"
   ]
  },
  {
   "cell_type": "code",
   "execution_count": 9,
   "metadata": {},
   "outputs": [
    {
     "name": "stdout",
     "output_type": "stream",
     "text": [
      "max：文の数 28 文の長さ 50\n"
     ]
    }
   ],
   "source": [
    "print( 'max：文の数 '+str(m.max())+' 文の長さ '+str(s.max()) )"
   ]
  },
  {
   "cell_type": "code",
   "execution_count": 10,
   "metadata": {},
   "outputs": [
    {
     "name": "stdout",
     "output_type": "stream",
     "text": [
      "min：文の数 5 文の長さ 10\n"
     ]
    }
   ],
   "source": [
    "print( 'min：文の数 '+str(m.min())+' 文の長さ '+str(s.min()) )"
   ]
  },
  {
   "cell_type": "code",
   "execution_count": null,
   "metadata": {
    "collapsed": true
   },
   "outputs": [],
   "source": []
  },
  {
   "cell_type": "code",
   "execution_count": 12,
   "metadata": {
    "collapsed": true
   },
   "outputs": [],
   "source": [
    "weights = np.load( './lstm/weights.npy' )"
   ]
  },
  {
   "cell_type": "code",
   "execution_count": 17,
   "metadata": {
    "collapsed": true
   },
   "outputs": [],
   "source": [
    "weights = np.array( weights, dtype=np.float16 )"
   ]
  },
  {
   "cell_type": "code",
   "execution_count": 18,
   "metadata": {
    "collapsed": true
   },
   "outputs": [],
   "source": [
    "np.save( './weights.npy', weights )"
   ]
  },
  {
   "cell_type": "code",
   "execution_count": 19,
   "metadata": {},
   "outputs": [
    {
     "data": {
      "text/plain": [
       "(129372, 300)"
      ]
     },
     "execution_count": 19,
     "metadata": {},
     "output_type": "execute_result"
    }
   ],
   "source": [
    "weights.shape"
   ]
  },
  {
   "cell_type": "code",
   "execution_count": null,
   "metadata": {
    "collapsed": true
   },
   "outputs": [],
   "source": []
  },
  {
   "cell_type": "code",
   "execution_count": null,
   "metadata": {
    "collapsed": true
   },
   "outputs": [],
   "source": []
  },
  {
   "cell_type": "code",
   "execution_count": null,
   "metadata": {
    "collapsed": true
   },
   "outputs": [],
   "source": []
  },
  {
   "cell_type": "code",
   "execution_count": null,
   "metadata": {
    "collapsed": true
   },
   "outputs": [],
   "source": []
  },
  {
   "cell_type": "code",
   "execution_count": 45,
   "metadata": {
    "collapsed": true
   },
   "outputs": [],
   "source": [
    "label = sorted(glob.glob('./padding_plus1/*.npy'))\n",
    "x_train = []\n",
    "x_test = []\n",
    "for idx in range( 7, len(label) ):\n",
    "    if idx%2 == 1:\n",
    "        if idx < 7200:\n",
    "            x_train.append( np.load(label[idx]) )\n",
    "        elif idx >= 7207:\n",
    "            x_test.append( np.load(label[idx]) )"
   ]
  },
  {
   "cell_type": "code",
   "execution_count": 46,
   "metadata": {
    "collapsed": true
   },
   "outputs": [],
   "source": [
    "np.save( '../Training_Data/x_train.npy', x_train )\n",
    "np.save( '../Training_Data/x_test.npy', x_test )"
   ]
  },
  {
   "cell_type": "code",
   "execution_count": 47,
   "metadata": {},
   "outputs": [
    {
     "data": {
      "text/plain": [
       "(267, 18, 35)"
      ]
     },
     "execution_count": 47,
     "metadata": {},
     "output_type": "execute_result"
    }
   ],
   "source": [
    "np.load( '../Training_Data/x_test.npy' ).shape"
   ]
  },
  {
   "cell_type": "code",
   "execution_count": null,
   "metadata": {
    "collapsed": true
   },
   "outputs": [],
   "source": []
  }
 ],
 "metadata": {
  "kernelspec": {
   "display_name": "Python 3",
   "language": "python",
   "name": "python3"
  },
  "language_info": {
   "codemirror_mode": {
    "name": "ipython",
    "version": 3
   },
   "file_extension": ".py",
   "mimetype": "text/x-python",
   "name": "python",
   "nbconvert_exporter": "python",
   "pygments_lexer": "ipython3",
   "version": "3.5.2"
  }
 },
 "nbformat": 4,
 "nbformat_minor": 2
}
