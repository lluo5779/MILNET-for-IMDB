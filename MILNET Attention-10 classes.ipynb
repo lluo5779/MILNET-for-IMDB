{
 "cells": [
  {
   "cell_type": "code",
   "execution_count": 1,
   "metadata": {},
   "outputs": [
    {
     "name": "stdout",
     "output_type": "stream",
     "text": [
      "Type 1 to initiate reload of google word2vec: 1\n",
      "word2vec model loaded\n"
     ]
    }
   ],
   "source": [
    "import gensim\n",
    "isReload = int(input(\"Type 1 to initiate reload of google word2vec: \"))\n",
    "\n",
    "if isReload:\n",
    "    model_word2vec_temp = gensim.models.KeyedVectors.load_word2vec_format('/home/owner/デスクトップ/milnet+edu/GoogleNews-vectors-negative300.bin', binary=True)  \n",
    "    model_word2vec = model_word2vec_temp\n",
    "\n",
    "print('word2vec model loaded')\n"
   ]
  },
  {
   "cell_type": "code",
   "execution_count": 2,
   "metadata": {},
   "outputs": [
    {
     "name": "stderr",
     "output_type": "stream",
     "text": [
      "/home/owner/anaconda3/lib/python3.6/site-packages/h5py/__init__.py:34: FutureWarning: Conversion of the second argument of issubdtype from `float` to `np.floating` is deprecated. In future, it will be treated as `np.float64 == np.dtype(float).type`.\n",
      "  from ._conv import register_converters as _register_converters\n",
      "Using TensorFlow backend.\n",
      "/home/owner/anaconda3/lib/python3.6/importlib/_bootstrap.py:219: RuntimeWarning: compiletime version 3.5 of module 'tensorflow.python.framework.fast_tensor_util' does not match runtime version 3.6\n",
      "  return f(*args, **kwds)\n"
     ]
    }
   ],
   "source": [
    "import sys, os\n",
    "sys.path.append(os.pardir)\n",
    "\n",
    "os.environ[\"KERAS_BACKEND\"]='tensorflow'\n",
    "#import glob\n",
    "import numpy as np\n",
    "\n",
    "\n",
    "import keras\n",
    "from keras.layers import Input, merge\n",
    "from keras.models import Model\n",
    "from keras.models import Sequential\n",
    "from keras.layers import Dense, Activation, Dropout\n",
    "from keras.layers import Embedding\n",
    "from keras.layers import LSTM\n",
    "import keras.backend as K\n",
    "from keras.layers import Lambda, regularizers, Average\n",
    "\n",
    "from keras.models import Model\n",
    "from keras.layers import Input, Conv2D, Conv1D, MaxPooling2D, GlobalMaxPooling2D, GlobalMaxPooling1D, MaxPooling1D\n",
    "from keras.layers.embeddings import Embedding\n",
    "from keras.layers.recurrent import GRU\n",
    "from keras.layers.wrappers import Bidirectional, TimeDistributed\n",
    "from keras.layers.core import Dropout, Dense, Lambda, Masking\n",
    "from keras.layers import merge, Layer, Activation, Dot, Concatenate, Flatten, Lambda\n",
    "\n",
    "from keras.initializers import Identity,glorot_normal\n",
    "from keras import regularizers\n",
    "\n",
    "from keras import metrics\n",
    "\n",
    "from keras.utils import plot_model\n",
    "\n"
   ]
  },
  {
   "cell_type": "code",
   "execution_count": 33,
   "metadata": {
    "scrolled": true
   },
   "outputs": [
    {
     "name": "stdout",
     "output_type": "stream",
     "text": [
      "[list([[0, 0, 0, 0, 0, 0, 0, 0, 0, 1, 226847, 572747, 548, 321, 3051], [0, 0, 0, 0, 0, 166, 37, 107, 2, 359991, 53, 515, 14, 70882, 8352], [0, 0, 0, 0, 0, 0, 0, 37, 5385, 31769, 49, 1, 138, 4096, 10904], [0, 0, 0, 0, 0, 0, 0, 0, 11, 585, 21395, 35, 138, 286, 2351], [0, 0, 0, 0, 0, 0, 0, 0, 0, 0, 0, 0, 37, 1881, 3006], [0, 0, 0, 0, 0, 0, 0, 0, 0, 0, 0, 14, 610, 11, 2485], [0, 0, 0, 0, 0, 0, 0, 0, 0, 0, 459, 1141, 1, 30, 113], [0, 0, 0, 0, 0, 0, 0, 0, 37, 76, 7276, 18, 205, 1280, 1453], [0, 0, 0, 0, 0, 0, 0, 0, 131, 82, 4007, 465, 27026, 124, 2579], [0, 0, 0, 0, 0, 0, 0, 0, 0, 0, 0, 0, 3041, 29585, 3713], [0, 0, 0, 0, 0, 0, 0, 0, 0, 0, 0, 50754, 2, 11, 2652], [0, 0, 0, 0, 0, 131, 488, 261, 11, 3304, 21068, 1, 597, 11, 2652], [0, 0, 0, 0, 0, 0, 0, 0, 0, 0, 0, 58, 891, 150, 773], [0, 0, 0, 0, 0, 0, 0, 4373, 11, 3117, 70882, 742, 82, 745, 6640], [0, 0, 0, 0, 0, 0, 0, 0, 0, 0, 0, 0, 126, 10117, 4], [0, 0, 0, 0, 3, 52, 2579, 12, 28, 59, 336, 21, 42, 891, 706], [0, 0, 0, 0, 0, 0, 14, 11, 70882, 2485, 8, 572747, 37, 138, 1119], [0, 0, 0, 0, 0, 0, 0, 0, 0, 0, 0, 0, 11, 226847, 572747], [0, 0, 0, 0, 0, 0, 0, 0, 0, 0, 0, 38, 177, 746, 205], [0, 0, 0, 0, 0, 89, 548, 11403, 334, 1, 572747, 1280, 512, 8, 70882], [0, 0, 0, 0, 0, 0, 0, 0, 0, 0, 0, 0, 0, 0, 18], [0, 0, 0, 0, 0, 0, 0, 0, 22, 955, 65, 7168, 680, 8, 8352], [0, 0, 0, 0, 0, 0, 0, 11, 2485, 1518, 4739, 8, 572747, 14, 445], [0, 0, 0, 713, 12, 360, 166, 2485, 37, 151, 138, 4876, 13, 755, 7272], [0, 0, 0, 0, 0, 86, 572747, 14, 11, 10659, 286, 84855, 10, 151, 10336], [0, 0, 0, 0, 0, 0, 0, 0, 0, 0, 0, 0, 0, 0, 1], [0, 0, 0, 0, 0, 0, 0, 0, 0, 0, 61, 22, 6915, 7421, 8352], [0, 0, 0, 26, 2485, 505, 333, 1518, 22, 819, 11, 39, 16444, 1535, 1298], [0, 0, 0, 0, 0, 0, 1, 131, 11, 721, 2485, 22, 10, 76, 26658], [0, 0, 0, 0, 0, 0, 0, 0, 0, 0, 0, 799, 421, 7035, 235], [0, 0, 0, 0, 0, 0, 0, 0, 0, 0, 0, 0, 2463, 41, 390], [0, 0, 0, 0, 0, 0, 0, 0, 0, 25935, 5894, 8, 5017, 68, 12303], [6966, 26, 286, 84855, 3387, 1873, 2099, 1, 11, 14, 610, 26, 335, 3241, 2485], [0, 0, 0, 0, 0, 505, 333, 1, 28, 585, 72, 4, 103832, 150, 4123], [0, 0, 0, 0, 0, 0, 0, 0, 0, 0, 0, 0, 0, 86, 1588], [0, 0, 0, 0, 0, 0, 0, 0, 0, 0, 0, 72, 1280, 4200, 4123], [0, 0, 0, 0, 0, 0, 0, 0, 0, 11, 70882, 2111, 297, 5, 1783], [0, 0, 0, 0, 0, 0, 0, 0, 0, 0, 14, 32, 639, 92, 809], [0, 0, 0, 0, 0, 0, 0, 0, 0, 2559, 424, 626, 87, 75740, 12823], [0, 162, 572747, 76, 21068, 5, 104, 11, 850, 333, 333, 2, 11, 1107, 692], [0, 0, 0, 0, 0, 0, 0, 0, 0, 3154, 17, 3, 22, 92, 773], [0, 0, 0, 0, 0, 0, 0, 0, 0, 0, 2395, 421, 9706, 278, 360], [0, 0, 0, 0, 0, 0, 0, 0, 0, 0, 2, 421, 1, 11, 132], [0, 0, 0, 0, 0, 0, 0, 0, 0, 72, 4, 86, 51437, 28, 1868], [0, 0, 0, 0, 0, 0, 0, 0, 15, 1280, 89, 396, 2, 3253, 1657], [0, 0, 0, 0, 0, 755, 140, 28, 10, 11, 56, 59, 5, 692, 572747], [0, 0, 0, 0, 0, 0, 0, 0, 0, 0, 5219, 14, 11, 286, 84855]])\n",
      " list([[0, 0, 0, 0, 0, 0, 0, 0, 0, 0, 0, 0, 0, 0, 88], [0, 0, 0, 0, 0, 0, 0, 0, 0, 0, 0, 0, 0, 14, 2570], [0, 0, 0, 0, 0, 28, 1121, 10, 5757, 145, 11, 415, 19, 1197, 8002], [0, 0, 0, 0, 0, 0, 0, 0, 0, 0, 0, 0, 0, 100, 266], [0, 0, 0, 413, 692, 3454, 573, 28, 692, 197, 100, 266, 1, 65, 95774], [0, 0, 0, 0, 0, 0, 0, 0, 0, 0, 0, 22422, 4122, 11, 692], [0, 0, 0, 0, 0, 0, 0, 0, 0, 0, 0, 33, 1092, 6629, 7218], [83, 28, 68, 92, 10, 73163, 274, 1304, 1618, 733, 8, 96503, 8, 9896, 415], [0, 0, 0, 0, 0, 646524, 6869, 636, 4, 14, 45116, 14, 11, 706, 7218], [0, 0, 0, 0, 0, 0, 26, 37206, 183, 13, 3411, 11, 2648, 12, 52], [0, 0, 0, 0, 0, 0, 0, 0, 0, 0, 1, 52, 11, 319, 3472], [0, 0, 0, 0, 0, 0, 0, 0, 0, 0, 0, 0, 1654, 5, 420209], [0, 0, 0, 0, 0, 0, 0, 0, 0, 0, 0, 0, 0, 4, 113807], [0, 0, 0, 0, 0, 0, 0, 0, 4501, 35, 749, 104, 11, 27685, 211]])\n",
      " list([[0, 0, 0, 0, 0, 0, 0, 4501, 47, 21, 482, 28, 1121, 39, 2091], [0, 0, 0, 0, 0, 0, 0, 0, 0, 88, 15, 35, 42, 11094, 529], [0, 0, 0, 0, 0, 0, 0, 0, 0, 0, 0, 0, 11, 636, 4879], [0, 0, 0, 0, 0, 0, 0, 0, 0, 29, 24876, 132, 95, 733, 347], [0, 0, 0, 0, 0, 0, 0, 9846, 83, 10, 2880, 582, 1, 46, 451], [0, 0, 0, 0, 0, 0, 0, 0, 0, 69, 15, 4501, 17139, 11, 1867], [0, 0, 0, 0, 0, 0, 0, 0, 443, 1289, 330, 5, 11, 686, 6504], [0, 0, 0, 0, 0, 0, 0, 0, 85, 43, 75, 151, 1025, 11, 2835], [0, 0, 0, 0, 0, 0, 0, 0, 0, 0, 0, 0, 0, 28, 760], [0, 0, 0, 0, 0, 0, 0, 0, 0, 923, 5635, 69, 347, 39, 10956], [0, 0, 0, 0, 0, 0, 0, 0, 0, 0, 0, 15, 4, 151, 9789], [0, 0, 0, 0, 0, 0, 0, 0, 15, 53, 760, 451, 69, 46, 451], [0, 0, 0, 0, 11, 6725, 2424, 20705, 37, 28188, 4501, 2972, 4, 127, 1563], [0, 0, 0, 0, 0, 0, 0, 0, 14, 197, 11946, 238, 15, 20162, 23440], [0, 0, 0, 0, 0, 0, 0, 0, 0, 0, 0, 0, 0, 11, 550], [0, 0, 0, 0, 0, 0, 0, 0, 0, 0, 0, 0, 0, 0, 25169], [0, 0, 0, 0, 0, 0, 0, 0, 1276604, 10535, 1080, 2319, 6869, 15775, 4211], [0, 0, 0, 0, 0, 0, 0, 0, 0, 0, 0, 0, 0, 4, 3793], [0, 0, 0, 0, 0, 0, 0, 0, 3, 92, 103832, 813, 112, 71, 360], [0, 0, 0, 0, 0, 0, 0, 4501, 755, 248, 13670, 18, 737, 2894, 633172], [0, 0, 0, 0, 0, 0, 0, 0, 3, 10, 11, 1455, 5144, 28, 45], [0, 0, 0, 0, 0, 0, 0, 0, 528, 234, 2091, 4501, 21, 5585, 72], [0, 0, 0, 0, 0, 0, 0, 0, 0, 0, 0, 0, 0, 0, 755], [0, 0, 88, 43, 2618, 15, 8, 11, 1867, 16778, 11, 56720, 2065, 11, 598], [0, 0, 0, 0, 0, 0, 0, 0, 0, 0, 336, 16, 11, 626, 68], [0, 0, 0, 0, 0, 0, 0, 31, 50, 2234, 108, 52, 113, 1828, 2251], [0, 0, 0, 0, 4501, 47, 87, 97, 6002, 15, 66, 276, 10604, 11, 59], [0, 0, 0, 0, 0, 0, 0, 0, 0, 158, 139, 11, 2424, 11248, 41], [0, 0, 0, 0, 0, 0, 11, 1813, 1, 28, 1121, 37, 7779, 56, 737]])\n",
      " ...\n",
      " list([[0, 0, 0, 0, 0, 11, 19688, 11, 692, 4, 485, 1280, 2108, 3158, 10902], [0, 0, 0, 0, 0, 0, 0, 0, 74, 4, 45, 11, 201, 943, 2580], [0, 0, 0, 0, 0, 0, 0, 0, 0, 0, 345, 1, 11, 157, 205], [13185, 8, 67, 250, 34124, 925413, 1, 198365, 3578, 211, 65, 12453, 1, 12440, 4910], [692, 2710, 11, 258, 550, 225534, 1280, 2694, 96026, 8, 52, 11, 24382, 2887, 2410], [0, 0, 0, 0, 0, 0, 0, 0, 0, 0, 0, 3, 1969, 50, 634], [0, 0, 0, 0, 0, 0, 0, 0, 0, 0, 0, 11, 1304, 1280, 570], [0, 0, 0, 0, 0, 0, 0, 0, 0, 118, 22, 10, 3246, 5, 943], [952, 18, 1803, 2998, 33, 19756, 14716, 517, 5, 1809, 12326, 18, 26, 1969, 6502], [0, 0, 0, 0, 0, 0, 0, 0, 0, 0, 0, 2259, 26, 5697, 772], [0, 0, 0, 0, 0, 0, 0, 0, 0, 23, 16, 45, 11, 278, 2648], [0, 0, 0, 0, 0, 0, 3, 820, 8, 170, 2, 11, 859, 126, 258], [0, 0, 0, 0, 0, 4501, 653, 28, 692, 5, 208, 1078, 1, 11, 401], [0, 0, 0, 0, 0, 0, 0, 0, 0, 0, 21, 794, 11, 64, 77], [0, 0, 0, 0, 0, 0, 0, 0, 0, 0, 0, 0, 469, 359, 3191], [0, 0, 0, 0, 0, 0, 0, 0, 0, 0, 0, 0, 0, 0, 1299]])\n",
      " list([[0, 0, 0, 112, 4501, 21, 76, 2618, 11, 110, 3947, 1, 11, 65, 466], [0, 0, 0, 0, 0, 0, 0, 0, 0, 0, 0, 0, 10, 28250, 333], [0, 0, 0, 0, 0, 0, 0, 0, 0, 14, 774, 14, 4501, 35, 750], [0, 0, 0, 0, 0, 0, 0, 0, 0, 0, 0, 0, 0, 1801, 4501], [0, 0, 0, 0, 0, 0, 2618, 15, 333, 452, 1, 52, 11, 337, 4501], [0, 0, 0, 0, 0, 0, 0, 0, 0, 0, 35, 1241, 11, 56, 59], [0, 0, 0, 0, 0, 0, 0, 0, 0, 0, 4501, 21, 126, 5, 660], [0, 0, 0, 0, 0, 0, 0, 0, 0, 0, 561, 78, 11, 13020, 1186], [0, 0, 0, 0, 0, 0, 0, 0, 0, 0, 0, 48, 2701, 11, 15585], [0, 0, 0, 0, 0, 0, 0, 4501, 58, 13, 3196, 10044, 29, 11566, 636], [0, 0, 0, 0, 0, 0, 0, 0, 0, 0, 0, 0, 33, 45945, 177], [0, 0, 0, 0, 0, 0, 0, 0, 0, 0, 83, 11, 3057, 12930, 10858], [0, 0, 0, 0, 0, 0, 0, 0, 11, 3304, 1393, 1377413, 149026, 4, 29328], [0, 0, 0, 0, 0, 0, 28, 4, 130603, 27685, 3452, 12, 44, 138, 201], [0, 0, 0, 0, 0, 0, 0, 0, 0, 0, 0, 0, 4501, 76, 683], [0, 0, 0, 0, 0, 0, 0, 0, 0, 0, 0, 0, 15, 4, 1086], [0, 0, 0, 0, 0, 0, 591, 287978, 183, 13, 411, 39, 10166, 60, 8284], [0, 0, 0, 0, 0, 0, 0, 0, 0, 0, 0, 0, 11, 17663, 1318], [0, 0, 0, 0, 0, 0, 0, 0, 0, 0, 0, 233, 135, 11, 261], [0, 0, 0, 0, 0, 0, 0, 0, 0, 0, 0, 0, 0, 19, 2837], [0, 0, 0, 0, 0, 0, 0, 0, 230, 811, 4371, 1798, 2, 11, 59]])\n",
      " list([[0, 0, 0, 0, 0, 0, 0, 0, 0, 0, 0, 4501, 58, 103832, 177], [0, 0, 0, 0, 0, 540, 68, 842, 85, 150, 2173, 2022, 46, 28, 1121], [0, 0, 0, 0, 0, 0, 0, 0, 0, 0, 0, 88, 43, 746, 3912], [0, 0, 0, 0, 0, 0, 0, 0, 0, 0, 88, 43, 76, 746, 5585], [0, 0, 0, 0, 0, 0, 0, 0, 0, 145, 28, 1121, 4, 2, 43], [0, 0, 0, 0, 0, 0, 0, 0, 0, 4501, 10, 7953, 126, 838, 49], [0, 0, 0, 0, 0, 0, 0, 0, 0, 0, 0, 11, 17486, 34861, 136460], [0, 0, 0, 0, 0, 0, 0, 0, 0, 32, 52, 19, 12, 30, 201], [0, 0, 0, 0, 0, 0, 0, 0, 0, 0, 11, 145689, 19, 138, 4364], [0, 0, 0, 0, 0, 0, 11, 6032, 1, 28, 1121, 4, 1604, 6762, 8989], [0, 0, 0, 0, 0, 0, 0, 0, 0, 3, 1280, 540, 4501, 3069, 15], [0, 0, 0, 0, 0, 0, 0, 88, 43, 87, 11, 6032, 56, 7409, 1121], [0, 0, 0, 0, 0, 0, 0, 0, 145, 43, 47, 87, 28, 1121, 253], [0, 0, 0, 0, 0, 0, 0, 0, 88, 43, 1755, 11, 17486, 34861, 136460], [0, 0, 0, 0, 0, 0, 0, 0, 0, 0, 145, 14974, 541, 4, 52], [0, 0, 0, 0, 0, 0, 0, 0, 0, 0, 0, 0, 0, 43, 199], [0, 0, 0, 0, 0, 0, 0, 0, 0, 0, 0, 15, 4, 13, 9789], [0, 0, 0, 0, 0, 0, 0, 0, 0, 0, 15, 4, 4364, 14, 5717], [0, 0, 152, 1228, 28, 138, 4364, 1121, 2456, 58, 103832, 16, 45, 133, 68], [0, 0, 0, 0, 0, 31, 142, 15, 3, 981, 50, 13, 4046, 127, 3912]])]\n",
      "(34204,)\n"
     ]
    }
   ],
   "source": [
    "x_test = np.load('/home/owner/デスクトップ/milnet+edu/data/Preprocessed/test_data_features.npy')#np.load('/home/owner/デスクトップ/PythonFile/imdb/t_train.npy')\n",
    "y_test = np.load('/home/owner/デスクトップ/milnet+edu/data/Preprocessed/test_data_labels.npy')#np.load('/home/owner/デスクトップ/PythonFile/imdb/t_test.npy')\n",
    "print(x_test)\n",
    "print(x_test.shape)\n"
   ]
  },
  {
   "cell_type": "code",
   "execution_count": 4,
   "metadata": {
    "scrolled": true
   },
   "outputs": [
    {
     "name": "stdout",
     "output_type": "stream",
     "text": [
      "281926\n",
      "210642\n",
      "210642\n",
      "53831\n",
      "[0 0 0 ... 9 9 9]\n",
      "data loaded\n"
     ]
    }
   ],
   "source": [
    "x_train = np.load('/home/owner/デスクトップ/milnet+edu/data/Preprocessed/train_data_features.npy')#np.load('/home/owner/デスクトップ/PythonFile/imdb/x_train_sort.npy')\n",
    "y_train = np.load('/home/owner/デスクトップ/milnet+edu/data/Preprocessed/train_data_labels.npy')#np.load('/home/owner/デスクトップ/PythonFile/imdb/x_test_sort.npy')\n",
    "print(len(x_train))\n",
    "\n",
    "x_test = np.load('/home/owner/デスクトップ/milnet+edu/data/Preprocessed/test_data_features.npy')#np.load('/home/owner/デスクトップ/PythonFile/imdb/t_train.npy')\n",
    "y_test = np.load('/home/owner/デスクトップ/milnet+edu/data/Preprocessed/test_data_labels.npy')#np.load('/home/owner/デスクトップ/PythonFile/imdb/t_test.npy')\n",
    "\n",
    "x_valid = np.load('/home/owner/デスクトップ/milnet+edu/data/Preprocessed/validation_data_features.npy')\n",
    "y_valid = np.load('/home/owner/デスクトップ/milnet+edu/data/Preprocessed/validation_data_labels.npy')\n",
    "\n",
    "train_idx = np.load('/home/owner/デスクトップ/milnet+edu/data/Preprocessed/train_data_idx_binary_only.npy')\n",
    "test_idx = np.load('/home/owner/デスクトップ/milnet+edu/data/Preprocessed/test_data_idx_binary_only.npy')\n",
    "valid_idx = np.load('/home/owner/デスクトップ/milnet+edu/data/Preprocessed/validation_data_idx_binary_only.npy')\n",
    "\n",
    "#print(len(train_idx))\n",
    "x_train = x_train[train_idx]\n",
    "y_train = y_train[train_idx]\n",
    "print(len(x_train))\n",
    "print(len(y_train))\n",
    "\n",
    "x_test = x_test[test_idx]\n",
    "y_test = y_test[test_idx]\n",
    "\n",
    "x_valid = x_valid[valid_idx]\n",
    "y_valid = y_valid[valid_idx]\n",
    "#print(len(x_train))\n",
    "\n",
    "word_idx=np.load( '/home/owner/デスクトップ/milnet+edu/data/Preprocessed/' + 'vocab_idx.npy')\n",
    "#print(idx)\n",
    "embWeights=np.load( '/home/owner/デスクトップ/milnet+edu/data/Preprocessed/' + 'weights.npy')#np.load('/home/owner/デスクトップ/PythonFile/imdb/weights.npy')\n",
    "\n",
    "print(len(word_idx))\n",
    "print(y_test)\n",
    "\n",
    "print('data loaded')"
   ]
  },
  {
   "cell_type": "code",
   "execution_count": 5,
   "metadata": {
    "scrolled": true
   },
   "outputs": [
    {
     "name": "stdout",
     "output_type": "stream",
     "text": [
      "6 15\n",
      "53831 300\n"
     ]
    },
    {
     "ename": "ResourceExhaustedError",
     "evalue": "OOM when allocating tensor with shape[53831,300]\n\t [[Node: Embedding/embeddings/Assign = Assign[T=DT_FLOAT, _class=[\"loc:@Embedding/embeddings\"], use_locking=true, validate_shape=true, _device=\"/job:localhost/replica:0/task:0/device:GPU:0\"](Embedding/embeddings, Embedding/random_uniform)]]\n\nCaused by op 'Embedding/embeddings/Assign', defined at:\n  File \"/home/owner/anaconda3/lib/python3.6/runpy.py\", line 193, in _run_module_as_main\n    \"__main__\", mod_spec)\n  File \"/home/owner/anaconda3/lib/python3.6/runpy.py\", line 85, in _run_code\n    exec(code, run_globals)\n  File \"/home/owner/anaconda3/lib/python3.6/site-packages/ipykernel_launcher.py\", line 16, in <module>\n    app.launch_new_instance()\n  File \"/home/owner/anaconda3/lib/python3.6/site-packages/traitlets/config/application.py\", line 658, in launch_instance\n    app.start()\n  File \"/home/owner/anaconda3/lib/python3.6/site-packages/ipykernel/kernelapp.py\", line 477, in start\n    ioloop.IOLoop.instance().start()\n  File \"/home/owner/anaconda3/lib/python3.6/site-packages/zmq/eventloop/ioloop.py\", line 177, in start\n    super(ZMQIOLoop, self).start()\n  File \"/home/owner/anaconda3/lib/python3.6/site-packages/tornado/ioloop.py\", line 888, in start\n    handler_func(fd_obj, events)\n  File \"/home/owner/anaconda3/lib/python3.6/site-packages/tornado/stack_context.py\", line 277, in null_wrapper\n    return fn(*args, **kwargs)\n  File \"/home/owner/anaconda3/lib/python3.6/site-packages/zmq/eventloop/zmqstream.py\", line 440, in _handle_events\n    self._handle_recv()\n  File \"/home/owner/anaconda3/lib/python3.6/site-packages/zmq/eventloop/zmqstream.py\", line 472, in _handle_recv\n    self._run_callback(callback, msg)\n  File \"/home/owner/anaconda3/lib/python3.6/site-packages/zmq/eventloop/zmqstream.py\", line 414, in _run_callback\n    callback(*args, **kwargs)\n  File \"/home/owner/anaconda3/lib/python3.6/site-packages/tornado/stack_context.py\", line 277, in null_wrapper\n    return fn(*args, **kwargs)\n  File \"/home/owner/anaconda3/lib/python3.6/site-packages/ipykernel/kernelbase.py\", line 283, in dispatcher\n    return self.dispatch_shell(stream, msg)\n  File \"/home/owner/anaconda3/lib/python3.6/site-packages/ipykernel/kernelbase.py\", line 235, in dispatch_shell\n    handler(stream, idents, msg)\n  File \"/home/owner/anaconda3/lib/python3.6/site-packages/ipykernel/kernelbase.py\", line 399, in execute_request\n    user_expressions, allow_stdin)\n  File \"/home/owner/anaconda3/lib/python3.6/site-packages/ipykernel/ipkernel.py\", line 196, in do_execute\n    res = shell.run_cell(code, store_history=store_history, silent=silent)\n  File \"/home/owner/anaconda3/lib/python3.6/site-packages/ipykernel/zmqshell.py\", line 533, in run_cell\n    return super(ZMQInteractiveShell, self).run_cell(*args, **kwargs)\n  File \"/home/owner/anaconda3/lib/python3.6/site-packages/IPython/core/interactiveshell.py\", line 2698, in run_cell\n    interactivity=interactivity, compiler=compiler, result=result)\n  File \"/home/owner/anaconda3/lib/python3.6/site-packages/IPython/core/interactiveshell.py\", line 2802, in run_ast_nodes\n    if self.run_code(code, result):\n  File \"/home/owner/anaconda3/lib/python3.6/site-packages/IPython/core/interactiveshell.py\", line 2862, in run_code\n    exec(code_obj, self.user_global_ns, self.user_ns)\n  File \"<ipython-input-5-cdca9fcbd394>\", line 60, in <module>\n    emb = embLayer(x_pop)\n  File \"/home/owner/anaconda3/lib/python3.6/site-packages/keras/engine/topology.py\", line 590, in __call__\n    self.build(input_shapes[0])\n  File \"/home/owner/anaconda3/lib/python3.6/site-packages/keras/layers/embeddings.py\", line 105, in build\n    dtype=self.dtype)\n  File \"/home/owner/anaconda3/lib/python3.6/site-packages/keras/legacy/interfaces.py\", line 91, in wrapper\n    return func(*args, **kwargs)\n  File \"/home/owner/anaconda3/lib/python3.6/site-packages/keras/engine/topology.py\", line 414, in add_weight\n    constraint=constraint)\n  File \"/home/owner/anaconda3/lib/python3.6/site-packages/keras/backend/tensorflow_backend.py\", line 392, in variable\n    v = tf.Variable(value, dtype=tf.as_dtype(dtype), name=name)\n  File \"/home/owner/anaconda3/lib/python3.6/site-packages/tensorflow/python/ops/variables.py\", line 213, in __init__\n    constraint=constraint)\n  File \"/home/owner/anaconda3/lib/python3.6/site-packages/tensorflow/python/ops/variables.py\", line 346, in _init_from_args\n    validate_shape=validate_shape).op\n  File \"/home/owner/anaconda3/lib/python3.6/site-packages/tensorflow/python/ops/state_ops.py\", line 276, in assign\n    validate_shape=validate_shape)\n  File \"/home/owner/anaconda3/lib/python3.6/site-packages/tensorflow/python/ops/gen_state_ops.py\", line 57, in assign\n    use_locking=use_locking, name=name)\n  File \"/home/owner/anaconda3/lib/python3.6/site-packages/tensorflow/python/framework/op_def_library.py\", line 787, in _apply_op_helper\n    op_def=op_def)\n  File \"/home/owner/anaconda3/lib/python3.6/site-packages/tensorflow/python/framework/ops.py\", line 2956, in create_op\n    op_def=op_def)\n  File \"/home/owner/anaconda3/lib/python3.6/site-packages/tensorflow/python/framework/ops.py\", line 1470, in __init__\n    self._traceback = self._graph._extract_stack()  # pylint: disable=protected-access\n\nResourceExhaustedError (see above for traceback): OOM when allocating tensor with shape[53831,300]\n\t [[Node: Embedding/embeddings/Assign = Assign[T=DT_FLOAT, _class=[\"loc:@Embedding/embeddings\"], use_locking=true, validate_shape=true, _device=\"/job:localhost/replica:0/task:0/device:GPU:0\"](Embedding/embeddings, Embedding/random_uniform)]]\n",
     "output_type": "error",
     "traceback": [
      "\u001b[0;31m---------------------------------------------------------------------------\u001b[0m",
      "\u001b[0;31mResourceExhaustedError\u001b[0m                    Traceback (most recent call last)",
      "\u001b[0;32m~/anaconda3/lib/python3.6/site-packages/tensorflow/python/client/session.py\u001b[0m in \u001b[0;36m_do_call\u001b[0;34m(self, fn, *args)\u001b[0m\n\u001b[1;32m   1322\u001b[0m     \u001b[0;32mtry\u001b[0m\u001b[0;34m:\u001b[0m\u001b[0;34m\u001b[0m\u001b[0m\n\u001b[0;32m-> 1323\u001b[0;31m       \u001b[0;32mreturn\u001b[0m \u001b[0mfn\u001b[0m\u001b[0;34m(\u001b[0m\u001b[0;34m*\u001b[0m\u001b[0margs\u001b[0m\u001b[0;34m)\u001b[0m\u001b[0;34m\u001b[0m\u001b[0m\n\u001b[0m\u001b[1;32m   1324\u001b[0m     \u001b[0;32mexcept\u001b[0m \u001b[0merrors\u001b[0m\u001b[0;34m.\u001b[0m\u001b[0mOpError\u001b[0m \u001b[0;32mas\u001b[0m \u001b[0me\u001b[0m\u001b[0;34m:\u001b[0m\u001b[0;34m\u001b[0m\u001b[0m\n",
      "\u001b[0;32m~/anaconda3/lib/python3.6/site-packages/tensorflow/python/client/session.py\u001b[0m in \u001b[0;36m_run_fn\u001b[0;34m(session, feed_dict, fetch_list, target_list, options, run_metadata)\u001b[0m\n\u001b[1;32m   1301\u001b[0m                                    \u001b[0mfeed_dict\u001b[0m\u001b[0;34m,\u001b[0m \u001b[0mfetch_list\u001b[0m\u001b[0;34m,\u001b[0m \u001b[0mtarget_list\u001b[0m\u001b[0;34m,\u001b[0m\u001b[0;34m\u001b[0m\u001b[0m\n\u001b[0;32m-> 1302\u001b[0;31m                                    status, run_metadata)\n\u001b[0m\u001b[1;32m   1303\u001b[0m \u001b[0;34m\u001b[0m\u001b[0m\n",
      "\u001b[0;32m~/anaconda3/lib/python3.6/site-packages/tensorflow/python/framework/errors_impl.py\u001b[0m in \u001b[0;36m__exit__\u001b[0;34m(self, type_arg, value_arg, traceback_arg)\u001b[0m\n\u001b[1;32m    472\u001b[0m             \u001b[0mcompat\u001b[0m\u001b[0;34m.\u001b[0m\u001b[0mas_text\u001b[0m\u001b[0;34m(\u001b[0m\u001b[0mc_api\u001b[0m\u001b[0;34m.\u001b[0m\u001b[0mTF_Message\u001b[0m\u001b[0;34m(\u001b[0m\u001b[0mself\u001b[0m\u001b[0;34m.\u001b[0m\u001b[0mstatus\u001b[0m\u001b[0;34m.\u001b[0m\u001b[0mstatus\u001b[0m\u001b[0;34m)\u001b[0m\u001b[0;34m)\u001b[0m\u001b[0;34m,\u001b[0m\u001b[0;34m\u001b[0m\u001b[0m\n\u001b[0;32m--> 473\u001b[0;31m             c_api.TF_GetCode(self.status.status))\n\u001b[0m\u001b[1;32m    474\u001b[0m     \u001b[0;31m# Delete the underlying status object from memory otherwise it stays alive\u001b[0m\u001b[0;34m\u001b[0m\u001b[0;34m\u001b[0m\u001b[0m\n",
      "\u001b[0;31mResourceExhaustedError\u001b[0m: OOM when allocating tensor with shape[53831,300]\n\t [[Node: Embedding/embeddings/Assign = Assign[T=DT_FLOAT, _class=[\"loc:@Embedding/embeddings\"], use_locking=true, validate_shape=true, _device=\"/job:localhost/replica:0/task:0/device:GPU:0\"](Embedding/embeddings, Embedding/random_uniform)]]",
      "\nDuring handling of the above exception, another exception occurred:\n",
      "\u001b[0;31mResourceExhaustedError\u001b[0m                    Traceback (most recent call last)",
      "\u001b[0;32m<ipython-input-5-cdca9fcbd394>\u001b[0m in \u001b[0;36m<module>\u001b[0;34m()\u001b[0m\n\u001b[1;32m     58\u001b[0m \u001b[0;34m\u001b[0m\u001b[0m\n\u001b[1;32m     59\u001b[0m     \u001b[0;32mfor\u001b[0m \u001b[0mj\u001b[0m \u001b[0;32min\u001b[0m \u001b[0mrange\u001b[0m\u001b[0;34m(\u001b[0m\u001b[0mwindowMax\u001b[0m\u001b[0;34m-\u001b[0m\u001b[0mwindowMin\u001b[0m\u001b[0;34m)\u001b[0m\u001b[0;34m:\u001b[0m\u001b[0;34m\u001b[0m\u001b[0m\n\u001b[0;32m---> 60\u001b[0;31m         \u001b[0memb\u001b[0m \u001b[0;34m=\u001b[0m \u001b[0membLayer\u001b[0m\u001b[0;34m(\u001b[0m\u001b[0mx_pop\u001b[0m\u001b[0;34m)\u001b[0m\u001b[0;34m\u001b[0m\u001b[0m\n\u001b[0m\u001b[1;32m     61\u001b[0m         \u001b[0memb\u001b[0m \u001b[0;34m=\u001b[0m \u001b[0mDropout\u001b[0m\u001b[0;34m(\u001b[0m\u001b[0mdr\u001b[0m\u001b[0;34m,\u001b[0m\u001b[0mname\u001b[0m\u001b[0;34m=\u001b[0m\u001b[0;34m'DropEmb'\u001b[0m\u001b[0;34m+\u001b[0m\u001b[0mstr\u001b[0m\u001b[0;34m(\u001b[0m\u001b[0mi\u001b[0m\u001b[0;34m)\u001b[0m\u001b[0;34m+\u001b[0m\u001b[0mstr\u001b[0m\u001b[0;34m(\u001b[0m\u001b[0mj\u001b[0m\u001b[0;34m)\u001b[0m\u001b[0;34m)\u001b[0m\u001b[0;34m(\u001b[0m\u001b[0memb\u001b[0m\u001b[0;34m)\u001b[0m\u001b[0;34m\u001b[0m\u001b[0m\n\u001b[1;32m     62\u001b[0m         \u001b[0mreshaped\u001b[0m \u001b[0;34m=\u001b[0m \u001b[0mextraDimLayer\u001b[0m\u001b[0;34m(\u001b[0m\u001b[0memb\u001b[0m\u001b[0;34m)\u001b[0m\u001b[0;31m#Lambda(lambda x: K.expand_dims(x), name='extraDimForConvo_'+str(j)+'_sentence_'+str(i))(emb)\u001b[0m\u001b[0;34m\u001b[0m\u001b[0m\n",
      "\u001b[0;32m~/anaconda3/lib/python3.6/site-packages/keras/engine/topology.py\u001b[0m in \u001b[0;36m__call__\u001b[0;34m(self, inputs, **kwargs)\u001b[0m\n\u001b[1;32m    595\u001b[0m                 \u001b[0;31m# Load weights that were specified at layer instantiation.\u001b[0m\u001b[0;34m\u001b[0m\u001b[0;34m\u001b[0m\u001b[0m\n\u001b[1;32m    596\u001b[0m                 \u001b[0;32mif\u001b[0m \u001b[0mself\u001b[0m\u001b[0;34m.\u001b[0m\u001b[0m_initial_weights\u001b[0m \u001b[0;32mis\u001b[0m \u001b[0;32mnot\u001b[0m \u001b[0;32mNone\u001b[0m\u001b[0;34m:\u001b[0m\u001b[0;34m\u001b[0m\u001b[0m\n\u001b[0;32m--> 597\u001b[0;31m                     \u001b[0mself\u001b[0m\u001b[0;34m.\u001b[0m\u001b[0mset_weights\u001b[0m\u001b[0;34m(\u001b[0m\u001b[0mself\u001b[0m\u001b[0;34m.\u001b[0m\u001b[0m_initial_weights\u001b[0m\u001b[0;34m)\u001b[0m\u001b[0;34m\u001b[0m\u001b[0m\n\u001b[0m\u001b[1;32m    598\u001b[0m \u001b[0;34m\u001b[0m\u001b[0m\n\u001b[1;32m    599\u001b[0m             \u001b[0;31m# Raise exceptions in case the input is not compatible\u001b[0m\u001b[0;34m\u001b[0m\u001b[0;34m\u001b[0m\u001b[0m\n",
      "\u001b[0;32m~/anaconda3/lib/python3.6/site-packages/keras/engine/topology.py\u001b[0m in \u001b[0;36mset_weights\u001b[0;34m(self, weights)\u001b[0m\n\u001b[1;32m   1209\u001b[0m             \u001b[0;32mreturn\u001b[0m\u001b[0;34m\u001b[0m\u001b[0m\n\u001b[1;32m   1210\u001b[0m         \u001b[0mweight_value_tuples\u001b[0m \u001b[0;34m=\u001b[0m \u001b[0;34m[\u001b[0m\u001b[0;34m]\u001b[0m\u001b[0;34m\u001b[0m\u001b[0m\n\u001b[0;32m-> 1211\u001b[0;31m         \u001b[0mparam_values\u001b[0m \u001b[0;34m=\u001b[0m \u001b[0mK\u001b[0m\u001b[0;34m.\u001b[0m\u001b[0mbatch_get_value\u001b[0m\u001b[0;34m(\u001b[0m\u001b[0mparams\u001b[0m\u001b[0;34m)\u001b[0m\u001b[0;34m\u001b[0m\u001b[0m\n\u001b[0m\u001b[1;32m   1212\u001b[0m         \u001b[0;32mfor\u001b[0m \u001b[0mpv\u001b[0m\u001b[0;34m,\u001b[0m \u001b[0mp\u001b[0m\u001b[0;34m,\u001b[0m \u001b[0mw\u001b[0m \u001b[0;32min\u001b[0m \u001b[0mzip\u001b[0m\u001b[0;34m(\u001b[0m\u001b[0mparam_values\u001b[0m\u001b[0;34m,\u001b[0m \u001b[0mparams\u001b[0m\u001b[0;34m,\u001b[0m \u001b[0mweights\u001b[0m\u001b[0;34m)\u001b[0m\u001b[0;34m:\u001b[0m\u001b[0;34m\u001b[0m\u001b[0m\n\u001b[1;32m   1213\u001b[0m             \u001b[0;32mif\u001b[0m \u001b[0mpv\u001b[0m\u001b[0;34m.\u001b[0m\u001b[0mshape\u001b[0m \u001b[0;34m!=\u001b[0m \u001b[0mw\u001b[0m\u001b[0;34m.\u001b[0m\u001b[0mshape\u001b[0m\u001b[0;34m:\u001b[0m\u001b[0;34m\u001b[0m\u001b[0m\n",
      "\u001b[0;32m~/anaconda3/lib/python3.6/site-packages/keras/backend/tensorflow_backend.py\u001b[0m in \u001b[0;36mbatch_get_value\u001b[0;34m(ops)\u001b[0m\n\u001b[1;32m   2318\u001b[0m     \"\"\"\n\u001b[1;32m   2319\u001b[0m     \u001b[0;32mif\u001b[0m \u001b[0mops\u001b[0m\u001b[0;34m:\u001b[0m\u001b[0;34m\u001b[0m\u001b[0m\n\u001b[0;32m-> 2320\u001b[0;31m         \u001b[0;32mreturn\u001b[0m \u001b[0mget_session\u001b[0m\u001b[0;34m(\u001b[0m\u001b[0;34m)\u001b[0m\u001b[0;34m.\u001b[0m\u001b[0mrun\u001b[0m\u001b[0;34m(\u001b[0m\u001b[0mops\u001b[0m\u001b[0;34m)\u001b[0m\u001b[0;34m\u001b[0m\u001b[0m\n\u001b[0m\u001b[1;32m   2321\u001b[0m     \u001b[0;32melse\u001b[0m\u001b[0;34m:\u001b[0m\u001b[0;34m\u001b[0m\u001b[0m\n\u001b[1;32m   2322\u001b[0m         \u001b[0;32mreturn\u001b[0m \u001b[0;34m[\u001b[0m\u001b[0;34m]\u001b[0m\u001b[0;34m\u001b[0m\u001b[0m\n",
      "\u001b[0;32m~/anaconda3/lib/python3.6/site-packages/keras/backend/tensorflow_backend.py\u001b[0m in \u001b[0;36mget_session\u001b[0;34m()\u001b[0m\n\u001b[1;32m    194\u001b[0m                     \u001b[0mv\u001b[0m\u001b[0;34m.\u001b[0m\u001b[0m_keras_initialized\u001b[0m \u001b[0;34m=\u001b[0m \u001b[0;32mTrue\u001b[0m\u001b[0;34m\u001b[0m\u001b[0m\n\u001b[1;32m    195\u001b[0m                 \u001b[0;32mif\u001b[0m \u001b[0muninitialized_vars\u001b[0m\u001b[0;34m:\u001b[0m\u001b[0;34m\u001b[0m\u001b[0m\n\u001b[0;32m--> 196\u001b[0;31m                     \u001b[0msession\u001b[0m\u001b[0;34m.\u001b[0m\u001b[0mrun\u001b[0m\u001b[0;34m(\u001b[0m\u001b[0mtf\u001b[0m\u001b[0;34m.\u001b[0m\u001b[0mvariables_initializer\u001b[0m\u001b[0;34m(\u001b[0m\u001b[0muninitialized_vars\u001b[0m\u001b[0;34m)\u001b[0m\u001b[0;34m)\u001b[0m\u001b[0;34m\u001b[0m\u001b[0m\n\u001b[0m\u001b[1;32m    197\u001b[0m     \u001b[0;31m# hack for list_devices() function.\u001b[0m\u001b[0;34m\u001b[0m\u001b[0;34m\u001b[0m\u001b[0m\n\u001b[1;32m    198\u001b[0m     \u001b[0;31m# list_devices() function is not available under tensorflow r1.3.\u001b[0m\u001b[0;34m\u001b[0m\u001b[0;34m\u001b[0m\u001b[0m\n",
      "\u001b[0;32m~/anaconda3/lib/python3.6/site-packages/tensorflow/python/client/session.py\u001b[0m in \u001b[0;36mrun\u001b[0;34m(self, fetches, feed_dict, options, run_metadata)\u001b[0m\n\u001b[1;32m    887\u001b[0m     \u001b[0;32mtry\u001b[0m\u001b[0;34m:\u001b[0m\u001b[0;34m\u001b[0m\u001b[0m\n\u001b[1;32m    888\u001b[0m       result = self._run(None, fetches, feed_dict, options_ptr,\n\u001b[0;32m--> 889\u001b[0;31m                          run_metadata_ptr)\n\u001b[0m\u001b[1;32m    890\u001b[0m       \u001b[0;32mif\u001b[0m \u001b[0mrun_metadata\u001b[0m\u001b[0;34m:\u001b[0m\u001b[0;34m\u001b[0m\u001b[0m\n\u001b[1;32m    891\u001b[0m         \u001b[0mproto_data\u001b[0m \u001b[0;34m=\u001b[0m \u001b[0mtf_session\u001b[0m\u001b[0;34m.\u001b[0m\u001b[0mTF_GetBuffer\u001b[0m\u001b[0;34m(\u001b[0m\u001b[0mrun_metadata_ptr\u001b[0m\u001b[0;34m)\u001b[0m\u001b[0;34m\u001b[0m\u001b[0m\n",
      "\u001b[0;32m~/anaconda3/lib/python3.6/site-packages/tensorflow/python/client/session.py\u001b[0m in \u001b[0;36m_run\u001b[0;34m(self, handle, fetches, feed_dict, options, run_metadata)\u001b[0m\n\u001b[1;32m   1118\u001b[0m     \u001b[0;32mif\u001b[0m \u001b[0mfinal_fetches\u001b[0m \u001b[0;32mor\u001b[0m \u001b[0mfinal_targets\u001b[0m \u001b[0;32mor\u001b[0m \u001b[0;34m(\u001b[0m\u001b[0mhandle\u001b[0m \u001b[0;32mand\u001b[0m \u001b[0mfeed_dict_tensor\u001b[0m\u001b[0;34m)\u001b[0m\u001b[0;34m:\u001b[0m\u001b[0;34m\u001b[0m\u001b[0m\n\u001b[1;32m   1119\u001b[0m       results = self._do_run(handle, final_targets, final_fetches,\n\u001b[0;32m-> 1120\u001b[0;31m                              feed_dict_tensor, options, run_metadata)\n\u001b[0m\u001b[1;32m   1121\u001b[0m     \u001b[0;32melse\u001b[0m\u001b[0;34m:\u001b[0m\u001b[0;34m\u001b[0m\u001b[0m\n\u001b[1;32m   1122\u001b[0m       \u001b[0mresults\u001b[0m \u001b[0;34m=\u001b[0m \u001b[0;34m[\u001b[0m\u001b[0;34m]\u001b[0m\u001b[0;34m\u001b[0m\u001b[0m\n",
      "\u001b[0;32m~/anaconda3/lib/python3.6/site-packages/tensorflow/python/client/session.py\u001b[0m in \u001b[0;36m_do_run\u001b[0;34m(self, handle, target_list, fetch_list, feed_dict, options, run_metadata)\u001b[0m\n\u001b[1;32m   1315\u001b[0m     \u001b[0;32mif\u001b[0m \u001b[0mhandle\u001b[0m \u001b[0;32mis\u001b[0m \u001b[0;32mNone\u001b[0m\u001b[0;34m:\u001b[0m\u001b[0;34m\u001b[0m\u001b[0m\n\u001b[1;32m   1316\u001b[0m       return self._do_call(_run_fn, self._session, feeds, fetches, targets,\n\u001b[0;32m-> 1317\u001b[0;31m                            options, run_metadata)\n\u001b[0m\u001b[1;32m   1318\u001b[0m     \u001b[0;32melse\u001b[0m\u001b[0;34m:\u001b[0m\u001b[0;34m\u001b[0m\u001b[0m\n\u001b[1;32m   1319\u001b[0m       \u001b[0;32mreturn\u001b[0m \u001b[0mself\u001b[0m\u001b[0;34m.\u001b[0m\u001b[0m_do_call\u001b[0m\u001b[0;34m(\u001b[0m\u001b[0m_prun_fn\u001b[0m\u001b[0;34m,\u001b[0m \u001b[0mself\u001b[0m\u001b[0;34m.\u001b[0m\u001b[0m_session\u001b[0m\u001b[0;34m,\u001b[0m \u001b[0mhandle\u001b[0m\u001b[0;34m,\u001b[0m \u001b[0mfeeds\u001b[0m\u001b[0;34m,\u001b[0m \u001b[0mfetches\u001b[0m\u001b[0;34m)\u001b[0m\u001b[0;34m\u001b[0m\u001b[0m\n",
      "\u001b[0;32m~/anaconda3/lib/python3.6/site-packages/tensorflow/python/client/session.py\u001b[0m in \u001b[0;36m_do_call\u001b[0;34m(self, fn, *args)\u001b[0m\n\u001b[1;32m   1334\u001b[0m         \u001b[0;32mexcept\u001b[0m \u001b[0mKeyError\u001b[0m\u001b[0;34m:\u001b[0m\u001b[0;34m\u001b[0m\u001b[0m\n\u001b[1;32m   1335\u001b[0m           \u001b[0;32mpass\u001b[0m\u001b[0;34m\u001b[0m\u001b[0m\n\u001b[0;32m-> 1336\u001b[0;31m       \u001b[0;32mraise\u001b[0m \u001b[0mtype\u001b[0m\u001b[0;34m(\u001b[0m\u001b[0me\u001b[0m\u001b[0;34m)\u001b[0m\u001b[0;34m(\u001b[0m\u001b[0mnode_def\u001b[0m\u001b[0;34m,\u001b[0m \u001b[0mop\u001b[0m\u001b[0;34m,\u001b[0m \u001b[0mmessage\u001b[0m\u001b[0;34m)\u001b[0m\u001b[0;34m\u001b[0m\u001b[0m\n\u001b[0m\u001b[1;32m   1337\u001b[0m \u001b[0;34m\u001b[0m\u001b[0m\n\u001b[1;32m   1338\u001b[0m   \u001b[0;32mdef\u001b[0m \u001b[0m_extend_graph\u001b[0m\u001b[0;34m(\u001b[0m\u001b[0mself\u001b[0m\u001b[0;34m)\u001b[0m\u001b[0;34m:\u001b[0m\u001b[0;34m\u001b[0m\u001b[0m\n",
      "\u001b[0;31mResourceExhaustedError\u001b[0m: OOM when allocating tensor with shape[53831,300]\n\t [[Node: Embedding/embeddings/Assign = Assign[T=DT_FLOAT, _class=[\"loc:@Embedding/embeddings\"], use_locking=true, validate_shape=true, _device=\"/job:localhost/replica:0/task:0/device:GPU:0\"](Embedding/embeddings, Embedding/random_uniform)]]\n\nCaused by op 'Embedding/embeddings/Assign', defined at:\n  File \"/home/owner/anaconda3/lib/python3.6/runpy.py\", line 193, in _run_module_as_main\n    \"__main__\", mod_spec)\n  File \"/home/owner/anaconda3/lib/python3.6/runpy.py\", line 85, in _run_code\n    exec(code, run_globals)\n  File \"/home/owner/anaconda3/lib/python3.6/site-packages/ipykernel_launcher.py\", line 16, in <module>\n    app.launch_new_instance()\n  File \"/home/owner/anaconda3/lib/python3.6/site-packages/traitlets/config/application.py\", line 658, in launch_instance\n    app.start()\n  File \"/home/owner/anaconda3/lib/python3.6/site-packages/ipykernel/kernelapp.py\", line 477, in start\n    ioloop.IOLoop.instance().start()\n  File \"/home/owner/anaconda3/lib/python3.6/site-packages/zmq/eventloop/ioloop.py\", line 177, in start\n    super(ZMQIOLoop, self).start()\n  File \"/home/owner/anaconda3/lib/python3.6/site-packages/tornado/ioloop.py\", line 888, in start\n    handler_func(fd_obj, events)\n  File \"/home/owner/anaconda3/lib/python3.6/site-packages/tornado/stack_context.py\", line 277, in null_wrapper\n    return fn(*args, **kwargs)\n  File \"/home/owner/anaconda3/lib/python3.6/site-packages/zmq/eventloop/zmqstream.py\", line 440, in _handle_events\n    self._handle_recv()\n  File \"/home/owner/anaconda3/lib/python3.6/site-packages/zmq/eventloop/zmqstream.py\", line 472, in _handle_recv\n    self._run_callback(callback, msg)\n  File \"/home/owner/anaconda3/lib/python3.6/site-packages/zmq/eventloop/zmqstream.py\", line 414, in _run_callback\n    callback(*args, **kwargs)\n  File \"/home/owner/anaconda3/lib/python3.6/site-packages/tornado/stack_context.py\", line 277, in null_wrapper\n    return fn(*args, **kwargs)\n  File \"/home/owner/anaconda3/lib/python3.6/site-packages/ipykernel/kernelbase.py\", line 283, in dispatcher\n    return self.dispatch_shell(stream, msg)\n  File \"/home/owner/anaconda3/lib/python3.6/site-packages/ipykernel/kernelbase.py\", line 235, in dispatch_shell\n    handler(stream, idents, msg)\n  File \"/home/owner/anaconda3/lib/python3.6/site-packages/ipykernel/kernelbase.py\", line 399, in execute_request\n    user_expressions, allow_stdin)\n  File \"/home/owner/anaconda3/lib/python3.6/site-packages/ipykernel/ipkernel.py\", line 196, in do_execute\n    res = shell.run_cell(code, store_history=store_history, silent=silent)\n  File \"/home/owner/anaconda3/lib/python3.6/site-packages/ipykernel/zmqshell.py\", line 533, in run_cell\n    return super(ZMQInteractiveShell, self).run_cell(*args, **kwargs)\n  File \"/home/owner/anaconda3/lib/python3.6/site-packages/IPython/core/interactiveshell.py\", line 2698, in run_cell\n    interactivity=interactivity, compiler=compiler, result=result)\n  File \"/home/owner/anaconda3/lib/python3.6/site-packages/IPython/core/interactiveshell.py\", line 2802, in run_ast_nodes\n    if self.run_code(code, result):\n  File \"/home/owner/anaconda3/lib/python3.6/site-packages/IPython/core/interactiveshell.py\", line 2862, in run_code\n    exec(code_obj, self.user_global_ns, self.user_ns)\n  File \"<ipython-input-5-cdca9fcbd394>\", line 60, in <module>\n    emb = embLayer(x_pop)\n  File \"/home/owner/anaconda3/lib/python3.6/site-packages/keras/engine/topology.py\", line 590, in __call__\n    self.build(input_shapes[0])\n  File \"/home/owner/anaconda3/lib/python3.6/site-packages/keras/layers/embeddings.py\", line 105, in build\n    dtype=self.dtype)\n  File \"/home/owner/anaconda3/lib/python3.6/site-packages/keras/legacy/interfaces.py\", line 91, in wrapper\n    return func(*args, **kwargs)\n  File \"/home/owner/anaconda3/lib/python3.6/site-packages/keras/engine/topology.py\", line 414, in add_weight\n    constraint=constraint)\n  File \"/home/owner/anaconda3/lib/python3.6/site-packages/keras/backend/tensorflow_backend.py\", line 392, in variable\n    v = tf.Variable(value, dtype=tf.as_dtype(dtype), name=name)\n  File \"/home/owner/anaconda3/lib/python3.6/site-packages/tensorflow/python/ops/variables.py\", line 213, in __init__\n    constraint=constraint)\n  File \"/home/owner/anaconda3/lib/python3.6/site-packages/tensorflow/python/ops/variables.py\", line 346, in _init_from_args\n    validate_shape=validate_shape).op\n  File \"/home/owner/anaconda3/lib/python3.6/site-packages/tensorflow/python/ops/state_ops.py\", line 276, in assign\n    validate_shape=validate_shape)\n  File \"/home/owner/anaconda3/lib/python3.6/site-packages/tensorflow/python/ops/gen_state_ops.py\", line 57, in assign\n    use_locking=use_locking, name=name)\n  File \"/home/owner/anaconda3/lib/python3.6/site-packages/tensorflow/python/framework/op_def_library.py\", line 787, in _apply_op_helper\n    op_def=op_def)\n  File \"/home/owner/anaconda3/lib/python3.6/site-packages/tensorflow/python/framework/ops.py\", line 2956, in create_op\n    op_def=op_def)\n  File \"/home/owner/anaconda3/lib/python3.6/site-packages/tensorflow/python/framework/ops.py\", line 1470, in __init__\n    self._traceback = self._graph._extract_stack()  # pylint: disable=protected-access\n\nResourceExhaustedError (see above for traceback): OOM when allocating tensor with shape[53831,300]\n\t [[Node: Embedding/embeddings/Assign = Assign[T=DT_FLOAT, _class=[\"loc:@Embedding/embeddings\"], use_locking=true, validate_shape=true, _device=\"/job:localhost/replica:0/task:0/device:GPU:0\"](Embedding/embeddings, Embedding/random_uniform)]]\n"
     ]
    }
   ],
   "source": [
    "numSentencesPerDoc, numWordsPerSentence = x_train[0].shape[0], x_train[0].shape[1]\n",
    "print(numSentencesPerDoc, numWordsPerSentence)\n",
    "#print(x_train[0])\n",
    "\n",
    "vocabSize, embeddingSize = embWeights.shape[0], embWeights.shape[1]\n",
    "print(vocabSize, embeddingSize)\n",
    "\n",
    "dropWordEmb = 0.25\n",
    "recursiveClass = GRU\n",
    "\n",
    "filters = 1 #embeddingSize*2\n",
    "windowMin = 3\n",
    "windowMax = 7\n",
    "# dimOfSentimentMetrics = 5\n",
    "batch_size = 256\n",
    "epochs = 25\n",
    "numGRU = 100\n",
    "numDensePool=50\n",
    "eta = 1e-5\n",
    "dr = 0.5\n",
    "\n",
    "##\n",
    "\n",
    "#wordsInputs = Input(shape=(numWordsPerSentence,1), batch_shape=(numSentencesPerDoc,numWordsPerSentence,), dtype='int32', name='words_input')\n",
    "\n",
    "x_in = Input( shape = ( numSentencesPerDoc, numWordsPerSentence ) , name='Input' )\n",
    "#x_pop = Lambda( lambda x: x, output_shape=(numWordsPerSentence, ) , name='convert_shape' )( x_in )\n",
    "    \n",
    "#Layer functionの定義\n",
    "embLayer = Embedding( input_dim=embWeights.shape[0], output_dim=embWeights.shape[1], weights=[embWeights]\n",
    "                      ,mask_zero=True , trainable=True, embeddings_regularizer=regularizers.l2(0.0000001)\n",
    "                      , input_length=numWordsPerSentence, name='Embedding' )\n",
    "\n",
    "\n",
    "#embLayer = model_word2vec.get_keras_embedding()\n",
    "\n",
    "maxPooledPerDoc = []\n",
    "convNets = []\n",
    "maxPools = []\n",
    "\n",
    "extraDimLayer = Lambda(lambda x: K.expand_dims(x), name='extraDimForConvo')\n",
    "squeezeThirdLayer = Lambda(lambda x: K.squeeze(x, 3), name='squeezeThirdLayer')\n",
    "\n",
    "for windowSize in range(windowMin,windowMax):\n",
    "    name='word_mat_convo_win_size_'+str(windowSize)\n",
    "    convNet = Conv2D(filters, kernel_size=(windowSize,embeddingSize), padding='valid', activation='relu'\n",
    "                     ,strides=1, use_bias=True, input_shape=(numWordsPerSentence, embeddingSize, 1), data_format=\"channels_last\",kernel_initializer=glorot_normal()\n",
    "                     ,bias_regularizer=regularizers.l2(eta), kernel_regularizer=regularizers.l2(eta),name=name)\n",
    "    convNets.append(convNet)\n",
    "    name='word_mat_max_pool_win_size_'+str(windowSize)\n",
    "    maxPool = MaxPooling1D(pool_size = int(numWordsPerSentence-windowSize-1), padding='valid')\n",
    "    maxPools.append(maxPool)\n",
    "    \n",
    "    \n",
    "for i in range(numSentencesPerDoc):\n",
    "    maxPooledPerSentence = []\n",
    "    x_pop = Lambda(lambda x: x[:,i], output_shape=(numWordsPerSentence, ) , name='convert_shape_'+'sentence'+str(i+1))( x_in )\n",
    "\n",
    "    for j in range(windowMax-windowMin):   \n",
    "        emb = embLayer(x_pop)\n",
    "        emb = Dropout(dr,name='DropEmb'+str(i)+str(j))(emb)\n",
    "        reshaped = extraDimLayer(emb)#Lambda(lambda x: K.expand_dims(x), name='extraDimForConvo_'+str(j)+'_sentence_'+str(i))(emb)\n",
    "        name='word_mat_convo_win_size_'+str(j)+'_sentence_'+str(i)\n",
    "        # wordsCNN = Conv2D(filters, kernel_size=(windowSize,embeddingSize), padding='valid', \n",
    "        #                    activation='relu', strides=1, use_bias=True, input_shape=(numWordsPerSentence, embeddingSize, 1), data_format=\"channels_last\",\n",
    "        #                    kernel_initializer=glorot_normal(),kernel_regularizer=regularizers.l2(),name=name)(reshaped)\n",
    "        wordsCNN  = convNets[j](reshaped)\n",
    "        wordsCNN = Dropout(dr,name='DropCNN'+str(i)+str(j))(wordsCNN)\n",
    "        squeezed = squeezeThirdLayer(wordsCNN)#Lambda(lambda x: K.squeeze(x, 3), name='squeezeThirdLayer_'+str(j)+'_sentence_'+str(i))(wordsCNN)\n",
    "        # newShape = (-1, int(squeezed.shape[1])*int(squeezed.shape[2]))\n",
    "        # squeezed = Lambda(lambda x: K.reshape(x,shape=newShape), name ='squeezeDimForMaxPool'+str(i)+str(j))(squeezed)\n",
    "        wordsCNNPooled=GlobalMaxPooling1D()(squeezed)\n",
    "        #wordsCNNPooled= MaxPooling1D(pool_size = int(squeezed.shape[1]), padding='valid')(squeezed)\n",
    "        maxPooledPerSentence.append(wordsCNNPooled)\n",
    "        \n",
    "    mergedPoolForSentence = Concatenate(axis = 1)(maxPooledPerSentence)\n",
    "    newShape=(-1,1,int(mergedPoolForSentence.shape[1]))\n",
    "    reshapedPoolForSentence = Lambda(lambda x: K.reshape(x,shape=newShape), name ='switch_axis_'+'sentence'+str(i+1)+'winSize'+str(j+windowMin))(mergedPoolForSentence)\n",
    "    densePoolForSentence = Dense(numDensePool, bias_regularizer=regularizers.l2(eta),\n",
    "                                 kernel_regularizer=regularizers.l2(eta), activation='softmax', use_bias=True)(reshapedPoolForSentence)\n",
    "\n",
    "    densePoolForSentence = Dropout(dr,name='DropDense'+str(i))(densePoolForSentence)\n",
    "    maxPooledPerDoc.append(densePoolForSentence)\n",
    "    \n",
    "#Naive Approach\n",
    "averaged = Average()(maxPooledPerDoc) \n",
    "averaged = Lambda(lambda x:K.reshape(x,shape=(-1,int(averaged.shape[1])*int(averaged.shape[2]))), name ='attend_output')(averaged)\n",
    "out_avg = Dense(1, activation='sigmoid', use_bias=True)(averaged) \n",
    "    \n",
    "#Apply Attention \n",
    "mergedPoolPerDoc = Concatenate(axis = 1)(maxPooledPerDoc)\n",
    "biRnn_ = Bidirectional(GRU(int(mergedPoolPerDoc.shape[2]),  return_sequences=True, bias_regularizer=regularizers.l2(eta)\n",
    "                           ,kernel_regularizer=regularizers.l2(eta),recurrent_regularizer=regularizers.l2(eta)\n",
    "                           ,dropout=dr, recurrent_dropout=dr, unroll=True), merge_mode='concat')(mergedPoolPerDoc)\n",
    "newShape = (-1, int(mergedPoolPerDoc.shape[1]), 2*int(mergedPoolPerDoc.shape[2]))\n",
    "biRnn = Lambda(lambda x: K.reshape(x,shape=newShape), name ='biRnn_TF_Reminder')(biRnn_)\n",
    "\n",
    "CONTEXT_DIM = 100#int(int(biRnn.shape[1])*int(biRnn.shape[2])/2) \n",
    "\n",
    "eij = Dense(CONTEXT_DIM, kernel_regularizer=regularizers.l2(eta), bias_regularizer=regularizers.l2(eta)\n",
    "            , use_bias=True, activation='tanh')(biRnn)\n",
    "eij = Dense(CONTEXT_DIM, kernel_regularizer=regularizers.l2(eta), use_bias=False, activation='softmax')(eij)\n",
    "\n",
    "weighted_input_ = Dot(axes = 1)([eij, biRnn])\n",
    "weighted_input = Lambda(lambda x: K.reshape(x,shape=(-1,int(weighted_input_.shape[1])*int(weighted_input_.shape[2]))), name ='attend_output')(weighted_input_)\n",
    "\n",
    "out = Dense(1, kernel_regularizer=regularizers.l2(eta), bias_regularizer=regularizers.l2(eta)\n",
    "            , activation='sigmoid', use_bias=True)(weighted_input)\n",
    "\n",
    "\n",
    "\n",
    "\n",
    "##\n",
    "\n",
    "model = Model(input=[x_in], output=[out])\n",
    "# adadelta = keras.optimizers.Adadelta(lr=0.5, rho=0.95, epsilon=None, decay=0.0)\n",
    "# model.compile(loss='binary_crossentropy',\n",
    "#               optimizer=adadelta,\n",
    "#               metrics=['accuracy'])\n",
    "         \n",
    "model.compile(loss='binary_crossentropy',\n",
    "              optimizer=keras.optimizers.Adam(lr=0.001, beta_1=0.9, beta_2=0.999, epsilon=1e-08, decay=0.0),\n",
    "              metrics=['accuracy'])\n",
    "\n",
    "print(\"Attention Model Build Complete\")\n",
    "##\n",
    "model_avg = Model(inputs=[x_in], outputs=[out_avg])\n",
    "model_avg.compile(loss='binary_crossentropy',\n",
    "              optimizer=keras.optimizers.Adam(lr=0.0001, beta_1=0.9, beta_2=0.999, epsilon=1e-08, decay=0.0),\n",
    "              metrics=['accuracy'])\n",
    "\n",
    "print(\"Average Model Build Complete\")\n",
    "##\n",
    "#save model to png file\n",
    "from keras.utils import plot_model\n",
    "plot_model( model, to_file='model.png' )\n",
    "\n",
    "#モデルを保存せず直接可視化\n",
    "from IPython.display import SVG\n",
    "from keras.utils.vis_utils import model_to_dot\n",
    "SVG( model_to_dot( model ).create( prog='dot', format='svg' ) )\n",
    "'''\n",
    "##\n",
    "print('Train...')\n",
    "history = model.fit(x_train, y_train, batch_size = batch_size, verbose=1, epochs=epochs\n",
    "                    ,validation_split=0.2, shuffle=True)\n",
    "'''\n",
    "                    \n",
    "                    \n",
    "                    "
   ]
  },
  {
   "cell_type": "code",
   "execution_count": null,
   "metadata": {},
   "outputs": [],
   "source": [
    "x_train.shape"
   ]
  },
  {
   "cell_type": "code",
   "execution_count": null,
   "metadata": {
    "collapsed": true
   },
   "outputs": [],
   "source": [
    "save_model = keras.callbacks.ModelCheckpoint('./params.hdf5', monitor='val_loss', verbose=1\n",
    "                                             , save_best_only=True, save_weights_only=True, mode='min', period=1)"
   ]
  },
  {
   "cell_type": "code",
   "execution_count": null,
   "metadata": {
    "scrolled": true
   },
   "outputs": [],
   "source": [
    "history = model.fit(x_train, y_train, batch_size = batch_size, verbose=1, epochs=200 #epochs\n",
    "                        ,validation_data=(x_valid,y_valid), shuffle=True, callbacks=[save_model])"
   ]
  },
  {
   "cell_type": "code",
   "execution_count": null,
   "metadata": {
    "collapsed": true
   },
   "outputs": [],
   "source": [
    "score=model.evaluate(x_test, y_test)\n",
    "print(score[0],score[1])"
   ]
  },
  {
   "cell_type": "code",
   "execution_count": null,
   "metadata": {
    "collapsed": true
   },
   "outputs": [],
   "source": [
    "history2 = model.fit(x_train, y_train, batch_size = batch_size, verbose=1, initial_epochs = 200, epochs=300 #epochs\n",
    "                        ,validation_data=(x_valid,y_valid), shuffle=True, callbacks=[save_model])"
   ]
  },
  {
   "cell_type": "code",
   "execution_count": null,
   "metadata": {
    "collapsed": true
   },
   "outputs": [],
   "source": [
    "score=model.evaluate(x_test, y_test)\n",
    "print(score[0],score[1])"
   ]
  },
  {
   "cell_type": "code",
   "execution_count": null,
   "metadata": {
    "collapsed": true,
    "scrolled": true
   },
   "outputs": [],
   "source": [
    "history3 = model.fit(x_train, y_train, batch_size = batch_size, verbose=1, initial_epochs = 300, epochs=500 #epochs\n",
    "                        , validation_data=(x_valid,y_valid), shuffle=True, callbacks=[save_model])"
   ]
  },
  {
   "cell_type": "code",
   "execution_count": null,
   "metadata": {
    "collapsed": true
   },
   "outputs": [],
   "source": []
  },
  {
   "cell_type": "code",
   "execution_count": null,
   "metadata": {
    "collapsed": true
   },
   "outputs": [],
   "source": [
    "#plot history\n",
    "import matplotlib.pyplot as plt\n",
    "def plot_history(history):\n",
    "    # 精度の履歴をプロット\n",
    "    plt.plot(history.history['acc'],label=\"accuracy\")\n",
    "    plt.plot(history.history['val_acc'],\"o-\",label=\"val_acc\")\n",
    "    plt.title('model accuracy')\n",
    "    plt.xlabel('epoch')\n",
    "    plt.ylabel('accuracy')\n",
    "    plt.legend(loc=\"lower right\")\n",
    "    plt.show()\n",
    "\n",
    "    # 損失の履歴をプロット\n",
    "    plt.plot(history.history['loss'],label=\"loss\",)\n",
    "    plt.plot(history.history['val_loss'],\"o-\",label=\"val_loss\")\n",
    "    plt.title('model loss')\n",
    "    plt.xlabel('epoch')\n",
    "    plt.ylabel('loss')\n",
    "    plt.legend(loc='lower right')\n",
    "    plt.show()\n",
    "    "
   ]
  },
  {
   "cell_type": "code",
   "execution_count": null,
   "metadata": {
    "collapsed": true
   },
   "outputs": [],
   "source": [
    "plot_history(history)"
   ]
  },
  {
   "cell_type": "code",
   "execution_count": null,
   "metadata": {
    "collapsed": true
   },
   "outputs": [],
   "source": [
    "#model_avg.save_weights('./params.hdf5')"
   ]
  },
  {
   "cell_type": "code",
   "execution_count": null,
   "metadata": {
    "collapsed": true
   },
   "outputs": [],
   "source": [
    "score=model.evaluate(x_test, y_test)"
   ]
  },
  {
   "cell_type": "code",
   "execution_count": null,
   "metadata": {
    "collapsed": true
   },
   "outputs": [],
   "source": [
    "print(score[0],score[1])"
   ]
  },
  {
   "cell_type": "code",
   "execution_count": null,
   "metadata": {
    "collapsed": true
   },
   "outputs": [],
   "source": [
    "print('h')"
   ]
  }
 ],
 "metadata": {
  "kernelspec": {
   "display_name": "Python 3",
   "language": "python",
   "name": "python3"
  },
  "language_info": {
   "codemirror_mode": {
    "name": "ipython",
    "version": 3
   },
   "file_extension": ".py",
   "mimetype": "text/x-python",
   "name": "python",
   "nbconvert_exporter": "python",
   "pygments_lexer": "ipython3",
   "version": "3.6.3"
  }
 },
 "nbformat": 4,
 "nbformat_minor": 2
}
